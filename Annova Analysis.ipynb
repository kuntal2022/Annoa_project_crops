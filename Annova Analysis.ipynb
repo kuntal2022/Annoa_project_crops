{
 "cells": [
  {
   "cell_type": "code",
   "execution_count": 400,
   "id": "a4dcb7eb",
   "metadata": {},
   "outputs": [],
   "source": [
    "# import packages\n",
    "import pandas as pd, numpy as np, matplotlib.pyplot as plt, seaborn as sns, warnings\n",
    "from scipy.stats import stats\n",
    "warnings.filterwarnings('ignore')\n",
    "import statsmodels.api as sm\n",
    "from statsmodels.formula.api import ols\n",
    "from statsmodels.graphics.factorplots import interaction_plot"
   ]
  },
  {
   "cell_type": "code",
   "execution_count": 401,
   "id": "6f422a8d",
   "metadata": {},
   "outputs": [
    {
     "data": {
      "text/html": [
       "<div>\n",
       "<style scoped>\n",
       "    .dataframe tbody tr th:only-of-type {\n",
       "        vertical-align: middle;\n",
       "    }\n",
       "\n",
       "    .dataframe tbody tr th {\n",
       "        vertical-align: top;\n",
       "    }\n",
       "\n",
       "    .dataframe thead th {\n",
       "        text-align: right;\n",
       "    }\n",
       "</style>\n",
       "<table border=\"1\" class=\"dataframe\">\n",
       "  <thead>\n",
       "    <tr style=\"text-align: right;\">\n",
       "      <th></th>\n",
       "      <th>density</th>\n",
       "      <th>block</th>\n",
       "      <th>fertilizer</th>\n",
       "      <th>yield</th>\n",
       "    </tr>\n",
       "  </thead>\n",
       "  <tbody>\n",
       "    <tr>\n",
       "      <th>0</th>\n",
       "      <td>1</td>\n",
       "      <td>1</td>\n",
       "      <td>1</td>\n",
       "      <td>177.228692</td>\n",
       "    </tr>\n",
       "    <tr>\n",
       "      <th>1</th>\n",
       "      <td>2</td>\n",
       "      <td>2</td>\n",
       "      <td>1</td>\n",
       "      <td>177.550041</td>\n",
       "    </tr>\n",
       "    <tr>\n",
       "      <th>2</th>\n",
       "      <td>1</td>\n",
       "      <td>3</td>\n",
       "      <td>1</td>\n",
       "      <td>176.408462</td>\n",
       "    </tr>\n",
       "    <tr>\n",
       "      <th>3</th>\n",
       "      <td>2</td>\n",
       "      <td>4</td>\n",
       "      <td>1</td>\n",
       "      <td>177.703625</td>\n",
       "    </tr>\n",
       "    <tr>\n",
       "      <th>4</th>\n",
       "      <td>1</td>\n",
       "      <td>1</td>\n",
       "      <td>1</td>\n",
       "      <td>177.125486</td>\n",
       "    </tr>\n",
       "  </tbody>\n",
       "</table>\n",
       "</div>"
      ],
      "text/plain": [
       "   density  block  fertilizer       yield\n",
       "0        1      1           1  177.228692\n",
       "1        2      2           1  177.550041\n",
       "2        1      3           1  176.408462\n",
       "3        2      4           1  177.703625\n",
       "4        1      1           1  177.125486"
      ]
     },
     "execution_count": 401,
     "metadata": {},
     "output_type": "execute_result"
    }
   ],
   "source": [
    "crop=pd.read_csv(r\"C:\\Users\\Neel\\Desktop\\PWS1\\Stats\\Untitled Folder\\annova\\crop.data.csv\")\n",
    "inp0=crop.copy()\n",
    "inp0.head()"
   ]
  },
  {
   "cell_type": "code",
   "execution_count": 402,
   "id": "bbcdcd44",
   "metadata": {},
   "outputs": [
    {
     "data": {
      "text/plain": [
       "(96, 4)"
      ]
     },
     "execution_count": 402,
     "metadata": {},
     "output_type": "execute_result"
    }
   ],
   "source": [
    "inp0.shape"
   ]
  },
  {
   "cell_type": "code",
   "execution_count": 403,
   "id": "28b8c6ec",
   "metadata": {},
   "outputs": [
    {
     "name": "stdout",
     "output_type": "stream",
     "text": [
      "<class 'pandas.core.frame.DataFrame'>\n",
      "RangeIndex: 96 entries, 0 to 95\n",
      "Data columns (total 4 columns):\n",
      " #   Column      Non-Null Count  Dtype  \n",
      "---  ------      --------------  -----  \n",
      " 0   density     96 non-null     int64  \n",
      " 1   block       96 non-null     int64  \n",
      " 2   fertilizer  96 non-null     int64  \n",
      " 3   yield       96 non-null     float64\n",
      "dtypes: float64(1), int64(3)\n",
      "memory usage: 3.1 KB\n"
     ]
    }
   ],
   "source": [
    "inp0.info()"
   ]
  },
  {
   "cell_type": "code",
   "execution_count": 404,
   "id": "a3606110",
   "metadata": {},
   "outputs": [
    {
     "data": {
      "text/html": [
       "<div>\n",
       "<style scoped>\n",
       "    .dataframe tbody tr th:only-of-type {\n",
       "        vertical-align: middle;\n",
       "    }\n",
       "\n",
       "    .dataframe tbody tr th {\n",
       "        vertical-align: top;\n",
       "    }\n",
       "\n",
       "    .dataframe thead th {\n",
       "        text-align: right;\n",
       "    }\n",
       "</style>\n",
       "<table border=\"1\" class=\"dataframe\">\n",
       "  <thead>\n",
       "    <tr style=\"text-align: right;\">\n",
       "      <th></th>\n",
       "      <th>density</th>\n",
       "      <th>block</th>\n",
       "      <th>fertilizer</th>\n",
       "      <th>yield</th>\n",
       "    </tr>\n",
       "  </thead>\n",
       "  <tbody>\n",
       "    <tr>\n",
       "      <th>count</th>\n",
       "      <td>96.000000</td>\n",
       "      <td>96.000000</td>\n",
       "      <td>96.000000</td>\n",
       "      <td>96.000000</td>\n",
       "    </tr>\n",
       "    <tr>\n",
       "      <th>mean</th>\n",
       "      <td>1.500000</td>\n",
       "      <td>2.500000</td>\n",
       "      <td>2.000000</td>\n",
       "      <td>177.015476</td>\n",
       "    </tr>\n",
       "    <tr>\n",
       "      <th>std</th>\n",
       "      <td>0.502625</td>\n",
       "      <td>1.123903</td>\n",
       "      <td>0.820783</td>\n",
       "      <td>0.664548</td>\n",
       "    </tr>\n",
       "    <tr>\n",
       "      <th>min</th>\n",
       "      <td>1.000000</td>\n",
       "      <td>1.000000</td>\n",
       "      <td>1.000000</td>\n",
       "      <td>175.360840</td>\n",
       "    </tr>\n",
       "    <tr>\n",
       "      <th>25%</th>\n",
       "      <td>1.000000</td>\n",
       "      <td>1.750000</td>\n",
       "      <td>1.000000</td>\n",
       "      <td>176.468696</td>\n",
       "    </tr>\n",
       "    <tr>\n",
       "      <th>50%</th>\n",
       "      <td>1.500000</td>\n",
       "      <td>2.500000</td>\n",
       "      <td>2.000000</td>\n",
       "      <td>177.058105</td>\n",
       "    </tr>\n",
       "    <tr>\n",
       "      <th>75%</th>\n",
       "      <td>2.000000</td>\n",
       "      <td>3.250000</td>\n",
       "      <td>3.000000</td>\n",
       "      <td>177.398571</td>\n",
       "    </tr>\n",
       "    <tr>\n",
       "      <th>max</th>\n",
       "      <td>2.000000</td>\n",
       "      <td>4.000000</td>\n",
       "      <td>3.000000</td>\n",
       "      <td>179.060899</td>\n",
       "    </tr>\n",
       "  </tbody>\n",
       "</table>\n",
       "</div>"
      ],
      "text/plain": [
       "         density      block  fertilizer       yield\n",
       "count  96.000000  96.000000   96.000000   96.000000\n",
       "mean    1.500000   2.500000    2.000000  177.015476\n",
       "std     0.502625   1.123903    0.820783    0.664548\n",
       "min     1.000000   1.000000    1.000000  175.360840\n",
       "25%     1.000000   1.750000    1.000000  176.468696\n",
       "50%     1.500000   2.500000    2.000000  177.058105\n",
       "75%     2.000000   3.250000    3.000000  177.398571\n",
       "max     2.000000   4.000000    3.000000  179.060899"
      ]
     },
     "execution_count": 404,
     "metadata": {},
     "output_type": "execute_result"
    }
   ],
   "source": [
    "inp0.describe()"
   ]
  },
  {
   "cell_type": "code",
   "execution_count": 405,
   "id": "dc4bc2c8",
   "metadata": {},
   "outputs": [
    {
     "name": "stdout",
     "output_type": "stream",
     "text": [
      "density\n",
      "_______________________________________________________________________\n",
      "1    48\n",
      "2    48\n",
      "Name: density, dtype: int64\n",
      "block\n",
      "_______________________________________________________________________\n",
      "1    24\n",
      "2    24\n",
      "3    24\n",
      "4    24\n",
      "Name: block, dtype: int64\n",
      "fertilizer\n",
      "_______________________________________________________________________\n",
      "1    32\n",
      "2    32\n",
      "3    32\n",
      "Name: fertilizer, dtype: int64\n",
      "yield\n",
      "_______________________________________________________________________\n",
      "177.228692    1\n",
      "177.550041    1\n",
      "176.405410    1\n",
      "178.286042    1\n",
      "177.032710    1\n",
      "             ..\n",
      "177.276996    1\n",
      "175.360840    1\n",
      "177.164937    1\n",
      "175.938533    1\n",
      "177.118176    1\n",
      "Name: yield, Length: 96, dtype: int64\n"
     ]
    }
   ],
   "source": [
    "for i in iter(inp0):\n",
    "    print(i)\n",
    "    print(\"_______________________________________________________________________\")\n",
    "    print(inp0[i].value_counts())"
   ]
  },
  {
   "cell_type": "code",
   "execution_count": 406,
   "id": "a66857d6",
   "metadata": {},
   "outputs": [
    {
     "data": {
      "text/plain": [
       "96"
      ]
     },
     "execution_count": 406,
     "metadata": {},
     "output_type": "execute_result"
    }
   ],
   "source": [
    "inp0[\"yield\"].nunique()"
   ]
  },
  {
   "cell_type": "code",
   "execution_count": 407,
   "id": "bbd1fc20",
   "metadata": {},
   "outputs": [
    {
     "data": {
      "text/plain": [
       "<AxesSubplot:xlabel='yield'>"
      ]
     },
     "execution_count": 407,
     "metadata": {},
     "output_type": "execute_result"
    },
    {
     "data": {
      "image/png": "[encoded data removed]",
      "text/plain": [
       "<Figure size 640x480 with 1 Axes>"
      ]
     },
     "metadata": {},
     "output_type": "display_data"
    }
   ],
   "source": [
    "# ANALYSIS\n",
    "\n",
    "sns.boxplot(inp0['yield'])"
   ]
  },
  {
   "cell_type": "code",
   "execution_count": 408,
   "id": "e962d911",
   "metadata": {},
   "outputs": [],
   "source": [
    "#remove the outlier\n",
    "\n",
    "def mask_outlier(col):\n",
    "    upper_bound = inp0[col].quantile(.75) +3*1.5\n",
    "    lower_bound = inp0[col].quantile(.25) -3*1.5\n",
    "    return np.where(inp0[col]>upper_bound, inp0[col].median(), (np.where(inp0[col]<lower_bound, inp0[col].median(), inp0[col])))\n",
    "\n",
    "inp0['yield']=mask_outlier(\"yield\")\n",
    "\n",
    "\n",
    "#Creation of yield flag\n",
    "inp0['y_flag']=pd.cut(inp0['yield'],  4,labels=('very_good', \"good\", \"moderate\", \"low\"))    "
   ]
  },
  {
   "cell_type": "code",
   "execution_count": 409,
   "id": "3bb6eabe",
   "metadata": {},
   "outputs": [
    {
     "data": {
      "text/plain": [
       "<AxesSubplot:xlabel='yield'>"
      ]
     },
     "execution_count": 409,
     "metadata": {},
     "output_type": "execute_result"
    },
    {
     "data": {
      "image/png": "[encoded data removed]",
      "text/plain": [
       "<Figure size 640x480 with 1 Axes>"
      ]
     },
     "metadata": {},
     "output_type": "display_data"
    }
   ],
   "source": [
    "sns.boxplot(inp0['yield'])"
   ]
  },
  {
   "cell_type": "code",
   "execution_count": 410,
   "id": "b60b90eb",
   "metadata": {},
   "outputs": [
    {
     "data": {
      "text/plain": [
       "<AxesSubplot:xlabel='y_flag', ylabel='density'>"
      ]
     },
     "execution_count": 410,
     "metadata": {},
     "output_type": "execute_result"
    },
    {
     "data": {
      "image/png": "[encoded data removed]",
      "text/plain": [
       "<Figure size 640x480 with 1 Axes>"
      ]
     },
     "metadata": {},
     "output_type": "display_data"
    }
   ],
   "source": [
    "sns.boxplot(data=inp0, y=\"density\", x=\"y_flag\")"
   ]
  },
  {
   "cell_type": "code",
   "execution_count": 411,
   "id": "5c5353d6",
   "metadata": {},
   "outputs": [
    {
     "data": {
      "text/plain": [
       "<AxesSubplot:xlabel='y_flag', ylabel='fertilizer'>"
      ]
     },
     "execution_count": 411,
     "metadata": {},
     "output_type": "execute_result"
    },
    {
     "data": {
      "image/png": "[encoded data removed]",
      "text/plain": [
       "<Figure size 640x480 with 1 Axes>"
      ]
     },
     "metadata": {},
     "output_type": "display_data"
    }
   ],
   "source": [
    "sns.boxplot(data=inp0, y=\"fertilizer\", x=\"y_flag\")"
   ]
  },
  {
   "cell_type": "code",
   "execution_count": 412,
   "id": "0b824346",
   "metadata": {},
   "outputs": [
    {
     "data": {
      "text/plain": [
       "<AxesSubplot:xlabel='y_flag', ylabel='block'>"
      ]
     },
     "execution_count": 412,
     "metadata": {},
     "output_type": "execute_result"
    },
    {
     "data": {
      "image/png": "[encoded data removed]",
      "text/plain": [
       "<Figure size 640x480 with 1 Axes>"
      ]
     },
     "metadata": {},
     "output_type": "display_data"
    }
   ],
   "source": [
    "sns.boxplot(data=inp0, y=\"block\", x=\"y_flag\")"
   ]
  },
  {
   "cell_type": "code",
   "execution_count": 413,
   "id": "763077ae",
   "metadata": {},
   "outputs": [
    {
     "data": {
      "text/html": [
       "<div>\n",
       "<style scoped>\n",
       "    .dataframe tbody tr th:only-of-type {\n",
       "        vertical-align: middle;\n",
       "    }\n",
       "\n",
       "    .dataframe tbody tr th {\n",
       "        vertical-align: top;\n",
       "    }\n",
       "\n",
       "    .dataframe thead th {\n",
       "        text-align: right;\n",
       "    }\n",
       "</style>\n",
       "<table border=\"1\" class=\"dataframe\">\n",
       "  <thead>\n",
       "    <tr style=\"text-align: right;\">\n",
       "      <th></th>\n",
       "      <th>density</th>\n",
       "      <th>block</th>\n",
       "      <th>fertilizer</th>\n",
       "      <th>yield</th>\n",
       "      <th>y_flag</th>\n",
       "    </tr>\n",
       "  </thead>\n",
       "  <tbody>\n",
       "    <tr>\n",
       "      <th>0</th>\n",
       "      <td>1</td>\n",
       "      <td>1</td>\n",
       "      <td>1</td>\n",
       "      <td>177.228692</td>\n",
       "      <td>moderate</td>\n",
       "    </tr>\n",
       "    <tr>\n",
       "      <th>1</th>\n",
       "      <td>2</td>\n",
       "      <td>2</td>\n",
       "      <td>1</td>\n",
       "      <td>177.550041</td>\n",
       "      <td>moderate</td>\n",
       "    </tr>\n",
       "    <tr>\n",
       "      <th>2</th>\n",
       "      <td>1</td>\n",
       "      <td>3</td>\n",
       "      <td>1</td>\n",
       "      <td>176.408462</td>\n",
       "      <td>good</td>\n",
       "    </tr>\n",
       "    <tr>\n",
       "      <th>3</th>\n",
       "      <td>2</td>\n",
       "      <td>4</td>\n",
       "      <td>1</td>\n",
       "      <td>177.703625</td>\n",
       "      <td>moderate</td>\n",
       "    </tr>\n",
       "    <tr>\n",
       "      <th>4</th>\n",
       "      <td>1</td>\n",
       "      <td>1</td>\n",
       "      <td>1</td>\n",
       "      <td>177.125486</td>\n",
       "      <td>good</td>\n",
       "    </tr>\n",
       "  </tbody>\n",
       "</table>\n",
       "</div>"
      ],
      "text/plain": [
       "   density  block  fertilizer       yield    y_flag\n",
       "0        1      1           1  177.228692  moderate\n",
       "1        2      2           1  177.550041  moderate\n",
       "2        1      3           1  176.408462      good\n",
       "3        2      4           1  177.703625  moderate\n",
       "4        1      1           1  177.125486      good"
      ]
     },
     "execution_count": 413,
     "metadata": {},
     "output_type": "execute_result"
    }
   ],
   "source": [
    "inp0.head()"
   ]
  },
  {
   "cell_type": "markdown",
   "id": "9e7fb743",
   "metadata": {},
   "source": [
    "# One way Annova among Dencity and Yeild"
   ]
  },
  {
   "cell_type": "markdown",
   "id": "e485a030",
   "metadata": {},
   "source": [
    "## Dencity"
   ]
  },
  {
   "cell_type": "code",
   "execution_count": 414,
   "id": "61d37a96",
   "metadata": {},
   "outputs": [],
   "source": [
    "den_df= inp0[[\"density\", \"y_flag\"]]"
   ]
  },
  {
   "cell_type": "code",
   "execution_count": 415,
   "id": "216171bb",
   "metadata": {},
   "outputs": [
    {
     "data": {
      "text/html": [
       "<div>\n",
       "<style scoped>\n",
       "    .dataframe tbody tr th:only-of-type {\n",
       "        vertical-align: middle;\n",
       "    }\n",
       "\n",
       "    .dataframe tbody tr th {\n",
       "        vertical-align: top;\n",
       "    }\n",
       "\n",
       "    .dataframe thead th {\n",
       "        text-align: right;\n",
       "    }\n",
       "</style>\n",
       "<table border=\"1\" class=\"dataframe\">\n",
       "  <thead>\n",
       "    <tr style=\"text-align: right;\">\n",
       "      <th></th>\n",
       "      <th>density</th>\n",
       "      <th>y_flag</th>\n",
       "    </tr>\n",
       "  </thead>\n",
       "  <tbody>\n",
       "    <tr>\n",
       "      <th>0</th>\n",
       "      <td>1</td>\n",
       "      <td>moderate</td>\n",
       "    </tr>\n",
       "    <tr>\n",
       "      <th>1</th>\n",
       "      <td>2</td>\n",
       "      <td>moderate</td>\n",
       "    </tr>\n",
       "    <tr>\n",
       "      <th>2</th>\n",
       "      <td>1</td>\n",
       "      <td>good</td>\n",
       "    </tr>\n",
       "    <tr>\n",
       "      <th>3</th>\n",
       "      <td>2</td>\n",
       "      <td>moderate</td>\n",
       "    </tr>\n",
       "    <tr>\n",
       "      <th>4</th>\n",
       "      <td>1</td>\n",
       "      <td>good</td>\n",
       "    </tr>\n",
       "  </tbody>\n",
       "</table>\n",
       "</div>"
      ],
      "text/plain": [
       "   density    y_flag\n",
       "0        1  moderate\n",
       "1        2  moderate\n",
       "2        1      good\n",
       "3        2  moderate\n",
       "4        1      good"
      ]
     },
     "execution_count": 415,
     "metadata": {},
     "output_type": "execute_result"
    }
   ],
   "source": [
    "den_df.head()"
   ]
  },
  {
   "cell_type": "markdown",
   "id": "885d7324",
   "metadata": {},
   "source": [
    "# Hypothesis:\n",
    "\n",
    "### H0: There is no changes in the mean of density across the yeild \n",
    "### H1: There is atleast one group's density mean is not same "
   ]
  },
  {
   "cell_type": "code",
   "execution_count": 416,
   "id": "2434bb47",
   "metadata": {},
   "outputs": [],
   "source": [
    "mod=ols(\"density~y_flag\", data=den_df).fit()"
   ]
  },
  {
   "cell_type": "code",
   "execution_count": 417,
   "id": "4bbf7da4",
   "metadata": {},
   "outputs": [
    {
     "data": {
      "text/html": [
       "<table class=\"simpletable\">\n",
       "<caption>OLS Regression Results</caption>\n",
       "<tr>\n",
       "  <th>Dep. Variable:</th>         <td>density</td>     <th>  R-squared:         </th> <td>   0.069</td>\n",
       "</tr>\n",
       "<tr>\n",
       "  <th>Model:</th>                   <td>OLS</td>       <th>  Adj. R-squared:    </th> <td>   0.038</td>\n",
       "</tr>\n",
       "<tr>\n",
       "  <th>Method:</th>             <td>Least Squares</td>  <th>  F-statistic:       </th> <td>   2.261</td>\n",
       "</tr>\n",
       "<tr>\n",
       "  <th>Date:</th>             <td>Mon, 20 Mar 2023</td> <th>  Prob (F-statistic):</th>  <td>0.0866</td> \n",
       "</tr>\n",
       "<tr>\n",
       "  <th>Time:</th>                 <td>22:35:07</td>     <th>  Log-Likelihood:    </th> <td> -66.262</td>\n",
       "</tr>\n",
       "<tr>\n",
       "  <th>No. Observations:</th>      <td>    96</td>      <th>  AIC:               </th> <td>   140.5</td>\n",
       "</tr>\n",
       "<tr>\n",
       "  <th>Df Residuals:</th>          <td>    92</td>      <th>  BIC:               </th> <td>   150.8</td>\n",
       "</tr>\n",
       "<tr>\n",
       "  <th>Df Model:</th>              <td>     3</td>      <th>                     </th>     <td> </td>   \n",
       "</tr>\n",
       "<tr>\n",
       "  <th>Covariance Type:</th>      <td>nonrobust</td>    <th>                     </th>     <td> </td>   \n",
       "</tr>\n",
       "</table>\n",
       "<table class=\"simpletable\">\n",
       "<tr>\n",
       "           <td></td>             <th>coef</th>     <th>std err</th>      <th>t</th>      <th>P>|t|</th>  <th>[0.025</th>    <th>0.975]</th>  \n",
       "</tr>\n",
       "<tr>\n",
       "  <th>Intercept</th>          <td>    1.2667</td> <td>    0.127</td> <td>    9.953</td> <td> 0.000</td> <td>    1.014</td> <td>    1.519</td>\n",
       "</tr>\n",
       "<tr>\n",
       "  <th>y_flag[T.good]</th>     <td>    0.2014</td> <td>    0.146</td> <td>    1.378</td> <td> 0.172</td> <td>   -0.089</td> <td>    0.492</td>\n",
       "</tr>\n",
       "<tr>\n",
       "  <th>y_flag[T.moderate]</th> <td>    0.3667</td> <td>    0.156</td> <td>    2.352</td> <td> 0.021</td> <td>    0.057</td> <td>    0.676</td>\n",
       "</tr>\n",
       "<tr>\n",
       "  <th>y_flag[T.low]</th>      <td>    0.4833</td> <td>    0.277</td> <td>    1.743</td> <td> 0.085</td> <td>   -0.068</td> <td>    1.034</td>\n",
       "</tr>\n",
       "</table>\n",
       "<table class=\"simpletable\">\n",
       "<tr>\n",
       "  <th>Omnibus:</th>       <td>1406.721</td> <th>  Durbin-Watson:     </th> <td>   3.784</td>\n",
       "</tr>\n",
       "<tr>\n",
       "  <th>Prob(Omnibus):</th>  <td> 0.000</td>  <th>  Jarque-Bera (JB):  </th> <td>  11.959</td>\n",
       "</tr>\n",
       "<tr>\n",
       "  <th>Skew:</th>           <td>-0.011</td>  <th>  Prob(JB):          </th> <td> 0.00253</td>\n",
       "</tr>\n",
       "<tr>\n",
       "  <th>Kurtosis:</th>       <td> 1.271</td>  <th>  Cond. No.          </th> <td>    7.18</td>\n",
       "</tr>\n",
       "</table><br/><br/>Notes:<br/>[1] Standard Errors assume that the covariance matrix of the errors is correctly specified."
      ],
      "text/plain": [
       "<class 'statsmodels.iolib.summary.Summary'>\n",
       "\"\"\"\n",
       "                            OLS Regression Results                            \n",
       "==============================================================================\n",
       "Dep. Variable:                density   R-squared:                       0.069\n",
       "Model:                            OLS   Adj. R-squared:                  0.038\n",
       "Method:                 Least Squares   F-statistic:                     2.261\n",
       "Date:                Mon, 20 Mar 2023   Prob (F-statistic):             0.0866\n",
       "Time:                        22:35:07   Log-Likelihood:                -66.262\n",
       "No. Observations:                  96   AIC:                             140.5\n",
       "Df Residuals:                      92   BIC:                             150.8\n",
       "Df Model:                           3                                         \n",
       "Covariance Type:            nonrobust                                         \n",
       "======================================================================================\n",
       "                         coef    std err          t      P>|t|      [0.025      0.975]\n",
       "--------------------------------------------------------------------------------------\n",
       "Intercept              1.2667      0.127      9.953      0.000       1.014       1.519\n",
       "y_flag[T.good]         0.2014      0.146      1.378      0.172      -0.089       0.492\n",
       "y_flag[T.moderate]     0.3667      0.156      2.352      0.021       0.057       0.676\n",
       "y_flag[T.low]          0.4833      0.277      1.743      0.085      -0.068       1.034\n",
       "==============================================================================\n",
       "Omnibus:                     1406.721   Durbin-Watson:                   3.784\n",
       "Prob(Omnibus):                  0.000   Jarque-Bera (JB):               11.959\n",
       "Skew:                          -0.011   Prob(JB):                      0.00253\n",
       "Kurtosis:                       1.271   Cond. No.                         7.18\n",
       "==============================================================================\n",
       "\n",
       "Notes:\n",
       "[1] Standard Errors assume that the covariance matrix of the errors is correctly specified.\n",
       "\"\"\""
      ]
     },
     "execution_count": 417,
     "metadata": {},
     "output_type": "execute_result"
    }
   ],
   "source": [
    "mod.summary()"
   ]
  },
  {
   "cell_type": "code",
   "execution_count": 418,
   "id": "ce2254ff",
   "metadata": {},
   "outputs": [],
   "source": [
    "aov_table= sm.stats.anova_lm(mod,type=2 )"
   ]
  },
  {
   "cell_type": "code",
   "execution_count": 419,
   "id": "18ac5722",
   "metadata": {},
   "outputs": [
    {
     "data": {
      "text/html": [
       "<div>\n",
       "<style scoped>\n",
       "    .dataframe tbody tr th:only-of-type {\n",
       "        vertical-align: middle;\n",
       "    }\n",
       "\n",
       "    .dataframe tbody tr th {\n",
       "        vertical-align: top;\n",
       "    }\n",
       "\n",
       "    .dataframe thead th {\n",
       "        text-align: right;\n",
       "    }\n",
       "</style>\n",
       "<table border=\"1\" class=\"dataframe\">\n",
       "  <thead>\n",
       "    <tr style=\"text-align: right;\">\n",
       "      <th></th>\n",
       "      <th>df</th>\n",
       "      <th>sum_sq</th>\n",
       "      <th>mean_sq</th>\n",
       "      <th>F</th>\n",
       "      <th>PR(&gt;F)</th>\n",
       "    </tr>\n",
       "  </thead>\n",
       "  <tbody>\n",
       "    <tr>\n",
       "      <th>y_flag</th>\n",
       "      <td>3.0</td>\n",
       "      <td>1.647872</td>\n",
       "      <td>0.549291</td>\n",
       "      <td>2.260847</td>\n",
       "      <td>0.086584</td>\n",
       "    </tr>\n",
       "    <tr>\n",
       "      <th>Residual</th>\n",
       "      <td>92.0</td>\n",
       "      <td>22.352128</td>\n",
       "      <td>0.242958</td>\n",
       "      <td>NaN</td>\n",
       "      <td>NaN</td>\n",
       "    </tr>\n",
       "  </tbody>\n",
       "</table>\n",
       "</div>"
      ],
      "text/plain": [
       "            df     sum_sq   mean_sq         F    PR(>F)\n",
       "y_flag     3.0   1.647872  0.549291  2.260847  0.086584\n",
       "Residual  92.0  22.352128  0.242958       NaN       NaN"
      ]
     },
     "execution_count": 419,
     "metadata": {},
     "output_type": "execute_result"
    }
   ],
   "source": [
    "aov_table"
   ]
  },
  {
   "cell_type": "code",
   "execution_count": 420,
   "id": "66d82833",
   "metadata": {},
   "outputs": [],
   "source": [
    "# We can not reject the null hypothesis as the P vale more than 0.05 \n",
    "# So Mean of all group in the term of density are same"
   ]
  },
  {
   "cell_type": "markdown",
   "id": "24d1bc21",
   "metadata": {},
   "source": [
    "# checking pair diffrent level p values"
   ]
  },
  {
   "cell_type": "code",
   "execution_count": 421,
   "id": "10d97402",
   "metadata": {},
   "outputs": [],
   "source": [
    "pair_t=mod.t_test_pairwise('y_flag')"
   ]
  },
  {
   "cell_type": "code",
   "execution_count": 422,
   "id": "ade34273",
   "metadata": {},
   "outputs": [
    {
     "data": {
      "text/html": [
       "<div>\n",
       "<style scoped>\n",
       "    .dataframe tbody tr th:only-of-type {\n",
       "        vertical-align: middle;\n",
       "    }\n",
       "\n",
       "    .dataframe tbody tr th {\n",
       "        vertical-align: top;\n",
       "    }\n",
       "\n",
       "    .dataframe thead th {\n",
       "        text-align: right;\n",
       "    }\n",
       "</style>\n",
       "<table border=\"1\" class=\"dataframe\">\n",
       "  <thead>\n",
       "    <tr style=\"text-align: right;\">\n",
       "      <th></th>\n",
       "      <th>coef</th>\n",
       "      <th>std err</th>\n",
       "      <th>t</th>\n",
       "      <th>P&gt;|t|</th>\n",
       "      <th>Conf. Int. Low</th>\n",
       "      <th>Conf. Int. Upp.</th>\n",
       "      <th>pvalue-hs</th>\n",
       "      <th>reject-hs</th>\n",
       "    </tr>\n",
       "  </thead>\n",
       "  <tbody>\n",
       "    <tr>\n",
       "      <th>good-very_good</th>\n",
       "      <td>0.201418</td>\n",
       "      <td>0.146173</td>\n",
       "      <td>1.377947</td>\n",
       "      <td>0.171562</td>\n",
       "      <td>-0.088894</td>\n",
       "      <td>0.491730</td>\n",
       "      <td>0.489655</td>\n",
       "      <td>False</td>\n",
       "    </tr>\n",
       "    <tr>\n",
       "      <th>moderate-very_good</th>\n",
       "      <td>0.366667</td>\n",
       "      <td>0.155871</td>\n",
       "      <td>2.352372</td>\n",
       "      <td>0.020786</td>\n",
       "      <td>0.057093</td>\n",
       "      <td>0.676240</td>\n",
       "      <td>0.118413</td>\n",
       "      <td>False</td>\n",
       "    </tr>\n",
       "    <tr>\n",
       "      <th>low-very_good</th>\n",
       "      <td>0.483333</td>\n",
       "      <td>0.277375</td>\n",
       "      <td>1.742529</td>\n",
       "      <td>0.084757</td>\n",
       "      <td>-0.067557</td>\n",
       "      <td>1.034223</td>\n",
       "      <td>0.357784</td>\n",
       "      <td>False</td>\n",
       "    </tr>\n",
       "    <tr>\n",
       "      <th>moderate-good</th>\n",
       "      <td>0.165248</td>\n",
       "      <td>0.115186</td>\n",
       "      <td>1.434615</td>\n",
       "      <td>0.154787</td>\n",
       "      <td>-0.063522</td>\n",
       "      <td>0.394018</td>\n",
       "      <td>0.489655</td>\n",
       "      <td>False</td>\n",
       "    </tr>\n",
       "    <tr>\n",
       "      <th>low-good</th>\n",
       "      <td>0.281915</td>\n",
       "      <td>0.256727</td>\n",
       "      <td>1.098111</td>\n",
       "      <td>0.275022</td>\n",
       "      <td>-0.227967</td>\n",
       "      <td>0.791797</td>\n",
       "      <td>0.489655</td>\n",
       "      <td>False</td>\n",
       "    </tr>\n",
       "    <tr>\n",
       "      <th>low-moderate</th>\n",
       "      <td>0.116667</td>\n",
       "      <td>0.262370</td>\n",
       "      <td>0.444664</td>\n",
       "      <td>0.657607</td>\n",
       "      <td>-0.404423</td>\n",
       "      <td>0.637756</td>\n",
       "      <td>0.657607</td>\n",
       "      <td>False</td>\n",
       "    </tr>\n",
       "  </tbody>\n",
       "</table>\n",
       "</div>"
      ],
      "text/plain": [
       "                        coef   std err         t     P>|t|  Conf. Int. Low  \\\n",
       "good-very_good      0.201418  0.146173  1.377947  0.171562       -0.088894   \n",
       "moderate-very_good  0.366667  0.155871  2.352372  0.020786        0.057093   \n",
       "low-very_good       0.483333  0.277375  1.742529  0.084757       -0.067557   \n",
       "moderate-good       0.165248  0.115186  1.434615  0.154787       -0.063522   \n",
       "low-good            0.281915  0.256727  1.098111  0.275022       -0.227967   \n",
       "low-moderate        0.116667  0.262370  0.444664  0.657607       -0.404423   \n",
       "\n",
       "                    Conf. Int. Upp.  pvalue-hs  reject-hs  \n",
       "good-very_good             0.491730   0.489655      False  \n",
       "moderate-very_good         0.676240   0.118413      False  \n",
       "low-very_good              1.034223   0.357784      False  \n",
       "moderate-good              0.394018   0.489655      False  \n",
       "low-good                   0.791797   0.489655      False  \n",
       "low-moderate               0.637756   0.657607      False  "
      ]
     },
     "execution_count": 422,
     "metadata": {},
     "output_type": "execute_result"
    }
   ],
   "source": [
    "pair_t.result_frame"
   ]
  },
  {
   "cell_type": "code",
   "execution_count": 423,
   "id": "4ec799fe",
   "metadata": {},
   "outputs": [],
   "source": [
    "# checking one way annova with block\n",
    "mod0= ols(\"block~y_flag\", data=inp0).fit()"
   ]
  },
  {
   "cell_type": "code",
   "execution_count": 424,
   "id": "394d4503",
   "metadata": {},
   "outputs": [
    {
     "data": {
      "text/html": [
       "<table class=\"simpletable\">\n",
       "<caption>OLS Regression Results</caption>\n",
       "<tr>\n",
       "  <th>Dep. Variable:</th>          <td>block</td>      <th>  R-squared:         </th> <td>   0.007</td>\n",
       "</tr>\n",
       "<tr>\n",
       "  <th>Model:</th>                   <td>OLS</td>       <th>  Adj. R-squared:    </th> <td>  -0.025</td>\n",
       "</tr>\n",
       "<tr>\n",
       "  <th>Method:</th>             <td>Least Squares</td>  <th>  F-statistic:       </th> <td>  0.2182</td>\n",
       "</tr>\n",
       "<tr>\n",
       "  <th>Date:</th>             <td>Mon, 20 Mar 2023</td> <th>  Prob (F-statistic):</th>  <td> 0.884</td> \n",
       "</tr>\n",
       "<tr>\n",
       "  <th>Time:</th>                 <td>22:35:08</td>     <th>  Log-Likelihood:    </th> <td> -146.59</td>\n",
       "</tr>\n",
       "<tr>\n",
       "  <th>No. Observations:</th>      <td>    96</td>      <th>  AIC:               </th> <td>   301.2</td>\n",
       "</tr>\n",
       "<tr>\n",
       "  <th>Df Residuals:</th>          <td>    92</td>      <th>  BIC:               </th> <td>   311.4</td>\n",
       "</tr>\n",
       "<tr>\n",
       "  <th>Df Model:</th>              <td>     3</td>      <th>                     </th>     <td> </td>   \n",
       "</tr>\n",
       "<tr>\n",
       "  <th>Covariance Type:</th>      <td>nonrobust</td>    <th>                     </th>     <td> </td>   \n",
       "</tr>\n",
       "</table>\n",
       "<table class=\"simpletable\">\n",
       "<tr>\n",
       "           <td></td>             <th>coef</th>     <th>std err</th>      <th>t</th>      <th>P>|t|</th>  <th>[0.025</th>    <th>0.975]</th>  \n",
       "</tr>\n",
       "<tr>\n",
       "  <th>Intercept</th>          <td>    2.3333</td> <td>    0.294</td> <td>    7.941</td> <td> 0.000</td> <td>    1.750</td> <td>    2.917</td>\n",
       "</tr>\n",
       "<tr>\n",
       "  <th>y_flag[T.good]</th>     <td>    0.1986</td> <td>    0.337</td> <td>    0.588</td> <td> 0.558</td> <td>   -0.472</td> <td>    0.869</td>\n",
       "</tr>\n",
       "<tr>\n",
       "  <th>y_flag[T.moderate]</th> <td>    0.2333</td> <td>    0.360</td> <td>    0.648</td> <td> 0.518</td> <td>   -0.481</td> <td>    0.948</td>\n",
       "</tr>\n",
       "<tr>\n",
       "  <th>y_flag[T.low]</th>      <td>   -0.0833</td> <td>    0.640</td> <td>   -0.130</td> <td> 0.897</td> <td>   -1.355</td> <td>    1.189</td>\n",
       "</tr>\n",
       "</table>\n",
       "<table class=\"simpletable\">\n",
       "<tr>\n",
       "  <th>Omnibus:</th>       <td>70.086</td> <th>  Durbin-Watson:     </th> <td>   2.307</td>\n",
       "</tr>\n",
       "<tr>\n",
       "  <th>Prob(Omnibus):</th> <td> 0.000</td> <th>  Jarque-Bera (JB):  </th> <td>   7.375</td>\n",
       "</tr>\n",
       "<tr>\n",
       "  <th>Skew:</th>          <td>-0.006</td> <th>  Prob(JB):          </th> <td>  0.0250</td>\n",
       "</tr>\n",
       "<tr>\n",
       "  <th>Kurtosis:</th>      <td> 1.642</td> <th>  Cond. No.          </th> <td>    7.18</td>\n",
       "</tr>\n",
       "</table><br/><br/>Notes:<br/>[1] Standard Errors assume that the covariance matrix of the errors is correctly specified."
      ],
      "text/plain": [
       "<class 'statsmodels.iolib.summary.Summary'>\n",
       "\"\"\"\n",
       "                            OLS Regression Results                            \n",
       "==============================================================================\n",
       "Dep. Variable:                  block   R-squared:                       0.007\n",
       "Model:                            OLS   Adj. R-squared:                 -0.025\n",
       "Method:                 Least Squares   F-statistic:                    0.2182\n",
       "Date:                Mon, 20 Mar 2023   Prob (F-statistic):              0.884\n",
       "Time:                        22:35:08   Log-Likelihood:                -146.59\n",
       "No. Observations:                  96   AIC:                             301.2\n",
       "Df Residuals:                      92   BIC:                             311.4\n",
       "Df Model:                           3                                         \n",
       "Covariance Type:            nonrobust                                         \n",
       "======================================================================================\n",
       "                         coef    std err          t      P>|t|      [0.025      0.975]\n",
       "--------------------------------------------------------------------------------------\n",
       "Intercept              2.3333      0.294      7.941      0.000       1.750       2.917\n",
       "y_flag[T.good]         0.1986      0.337      0.588      0.558      -0.472       0.869\n",
       "y_flag[T.moderate]     0.2333      0.360      0.648      0.518      -0.481       0.948\n",
       "y_flag[T.low]         -0.0833      0.640     -0.130      0.897      -1.355       1.189\n",
       "==============================================================================\n",
       "Omnibus:                       70.086   Durbin-Watson:                   2.307\n",
       "Prob(Omnibus):                  0.000   Jarque-Bera (JB):                7.375\n",
       "Skew:                          -0.006   Prob(JB):                       0.0250\n",
       "Kurtosis:                       1.642   Cond. No.                         7.18\n",
       "==============================================================================\n",
       "\n",
       "Notes:\n",
       "[1] Standard Errors assume that the covariance matrix of the errors is correctly specified.\n",
       "\"\"\""
      ]
     },
     "execution_count": 424,
     "metadata": {},
     "output_type": "execute_result"
    }
   ],
   "source": [
    "mod0.summary()"
   ]
  },
  {
   "cell_type": "code",
   "execution_count": 425,
   "id": "66a041bf",
   "metadata": {},
   "outputs": [],
   "source": [
    "av=sm.stats.anova_lm(mod0, type=2)"
   ]
  },
  {
   "cell_type": "code",
   "execution_count": 426,
   "id": "874b1814",
   "metadata": {},
   "outputs": [
    {
     "data": {
      "text/html": [
       "<div>\n",
       "<style scoped>\n",
       "    .dataframe tbody tr th:only-of-type {\n",
       "        vertical-align: middle;\n",
       "    }\n",
       "\n",
       "    .dataframe tbody tr th {\n",
       "        vertical-align: top;\n",
       "    }\n",
       "\n",
       "    .dataframe thead th {\n",
       "        text-align: right;\n",
       "    }\n",
       "</style>\n",
       "<table border=\"1\" class=\"dataframe\">\n",
       "  <thead>\n",
       "    <tr style=\"text-align: right;\">\n",
       "      <th></th>\n",
       "      <th>df</th>\n",
       "      <th>sum_sq</th>\n",
       "      <th>mean_sq</th>\n",
       "      <th>F</th>\n",
       "      <th>PR(&gt;F)</th>\n",
       "    </tr>\n",
       "  </thead>\n",
       "  <tbody>\n",
       "    <tr>\n",
       "      <th>y_flag</th>\n",
       "      <td>3.0</td>\n",
       "      <td>0.847872</td>\n",
       "      <td>0.282624</td>\n",
       "      <td>0.21822</td>\n",
       "      <td>0.883531</td>\n",
       "    </tr>\n",
       "    <tr>\n",
       "      <th>Residual</th>\n",
       "      <td>92.0</td>\n",
       "      <td>119.152128</td>\n",
       "      <td>1.295132</td>\n",
       "      <td>NaN</td>\n",
       "      <td>NaN</td>\n",
       "    </tr>\n",
       "  </tbody>\n",
       "</table>\n",
       "</div>"
      ],
      "text/plain": [
       "            df      sum_sq   mean_sq        F    PR(>F)\n",
       "y_flag     3.0    0.847872  0.282624  0.21822  0.883531\n",
       "Residual  92.0  119.152128  1.295132      NaN       NaN"
      ]
     },
     "execution_count": 426,
     "metadata": {},
     "output_type": "execute_result"
    }
   ],
   "source": [
    "av"
   ]
  },
  {
   "cell_type": "code",
   "execution_count": 427,
   "id": "a7f99380",
   "metadata": {},
   "outputs": [],
   "source": [
    "pair_t= mod0.t_test_pairwise('y_flag')"
   ]
  },
  {
   "cell_type": "code",
   "execution_count": 428,
   "id": "2b4ee175",
   "metadata": {},
   "outputs": [
    {
     "data": {
      "text/html": [
       "<div>\n",
       "<style scoped>\n",
       "    .dataframe tbody tr th:only-of-type {\n",
       "        vertical-align: middle;\n",
       "    }\n",
       "\n",
       "    .dataframe tbody tr th {\n",
       "        vertical-align: top;\n",
       "    }\n",
       "\n",
       "    .dataframe thead th {\n",
       "        text-align: right;\n",
       "    }\n",
       "</style>\n",
       "<table border=\"1\" class=\"dataframe\">\n",
       "  <thead>\n",
       "    <tr style=\"text-align: right;\">\n",
       "      <th></th>\n",
       "      <th>coef</th>\n",
       "      <th>std err</th>\n",
       "      <th>t</th>\n",
       "      <th>P&gt;|t|</th>\n",
       "      <th>Conf. Int. Low</th>\n",
       "      <th>Conf. Int. Upp.</th>\n",
       "      <th>pvalue-hs</th>\n",
       "      <th>reject-hs</th>\n",
       "    </tr>\n",
       "  </thead>\n",
       "  <tbody>\n",
       "    <tr>\n",
       "      <th>good-very_good</th>\n",
       "      <td>0.198582</td>\n",
       "      <td>0.337488</td>\n",
       "      <td>0.588411</td>\n",
       "      <td>0.557698</td>\n",
       "      <td>-0.471699</td>\n",
       "      <td>0.868862</td>\n",
       "      <td>0.987517</td>\n",
       "      <td>False</td>\n",
       "    </tr>\n",
       "    <tr>\n",
       "      <th>moderate-very_good</th>\n",
       "      <td>0.233333</td>\n",
       "      <td>0.359879</td>\n",
       "      <td>0.648365</td>\n",
       "      <td>0.518364</td>\n",
       "      <td>-0.481418</td>\n",
       "      <td>0.948085</td>\n",
       "      <td>0.987517</td>\n",
       "      <td>False</td>\n",
       "    </tr>\n",
       "    <tr>\n",
       "      <th>low-very_good</th>\n",
       "      <td>-0.083333</td>\n",
       "      <td>0.640410</td>\n",
       "      <td>-0.130125</td>\n",
       "      <td>0.896752</td>\n",
       "      <td>-1.355243</td>\n",
       "      <td>1.188576</td>\n",
       "      <td>0.989250</td>\n",
       "      <td>False</td>\n",
       "    </tr>\n",
       "    <tr>\n",
       "      <th>moderate-good</th>\n",
       "      <td>0.034752</td>\n",
       "      <td>0.265946</td>\n",
       "      <td>0.130672</td>\n",
       "      <td>0.896320</td>\n",
       "      <td>-0.493439</td>\n",
       "      <td>0.562943</td>\n",
       "      <td>0.989250</td>\n",
       "      <td>False</td>\n",
       "    </tr>\n",
       "    <tr>\n",
       "      <th>low-good</th>\n",
       "      <td>-0.281915</td>\n",
       "      <td>0.592739</td>\n",
       "      <td>-0.475614</td>\n",
       "      <td>0.635477</td>\n",
       "      <td>-1.459145</td>\n",
       "      <td>0.895315</td>\n",
       "      <td>0.987517</td>\n",
       "      <td>False</td>\n",
       "    </tr>\n",
       "    <tr>\n",
       "      <th>low-moderate</th>\n",
       "      <td>-0.316667</td>\n",
       "      <td>0.605767</td>\n",
       "      <td>-0.522753</td>\n",
       "      <td>0.602403</td>\n",
       "      <td>-1.519773</td>\n",
       "      <td>0.886439</td>\n",
       "      <td>0.987517</td>\n",
       "      <td>False</td>\n",
       "    </tr>\n",
       "  </tbody>\n",
       "</table>\n",
       "</div>"
      ],
      "text/plain": [
       "                        coef   std err         t     P>|t|  Conf. Int. Low  \\\n",
       "good-very_good      0.198582  0.337488  0.588411  0.557698       -0.471699   \n",
       "moderate-very_good  0.233333  0.359879  0.648365  0.518364       -0.481418   \n",
       "low-very_good      -0.083333  0.640410 -0.130125  0.896752       -1.355243   \n",
       "moderate-good       0.034752  0.265946  0.130672  0.896320       -0.493439   \n",
       "low-good           -0.281915  0.592739 -0.475614  0.635477       -1.459145   \n",
       "low-moderate       -0.316667  0.605767 -0.522753  0.602403       -1.519773   \n",
       "\n",
       "                    Conf. Int. Upp.  pvalue-hs  reject-hs  \n",
       "good-very_good             0.868862   0.987517      False  \n",
       "moderate-very_good         0.948085   0.987517      False  \n",
       "low-very_good              1.188576   0.989250      False  \n",
       "moderate-good              0.562943   0.989250      False  \n",
       "low-good                   0.895315   0.987517      False  \n",
       "low-moderate               0.886439   0.987517      False  "
      ]
     },
     "execution_count": 428,
     "metadata": {},
     "output_type": "execute_result"
    }
   ],
   "source": [
    "pair_t.result_frame"
   ]
  },
  {
   "cell_type": "code",
   "execution_count": 429,
   "id": "a7d2edfc",
   "metadata": {},
   "outputs": [],
   "source": [
    "# For block also all the level are having p value more than 0.05 so we cant reject the null"
   ]
  },
  {
   "cell_type": "code",
   "execution_count": 430,
   "id": "f63e78e4",
   "metadata": {},
   "outputs": [],
   "source": [
    "# one way test with fertilizer\n",
    "\n",
    "mod2= ols(\"fertilizer~y_flag\", data=inp0).fit()"
   ]
  },
  {
   "cell_type": "code",
   "execution_count": 431,
   "id": "90115ab0",
   "metadata": {},
   "outputs": [
    {
     "data": {
      "text/html": [
       "<table class=\"simpletable\">\n",
       "<caption>OLS Regression Results</caption>\n",
       "<tr>\n",
       "  <th>Dep. Variable:</th>       <td>fertilizer</td>    <th>  R-squared:         </th> <td>   0.160</td>\n",
       "</tr>\n",
       "<tr>\n",
       "  <th>Model:</th>                   <td>OLS</td>       <th>  Adj. R-squared:    </th> <td>   0.133</td>\n",
       "</tr>\n",
       "<tr>\n",
       "  <th>Method:</th>             <td>Least Squares</td>  <th>  F-statistic:       </th> <td>   5.842</td>\n",
       "</tr>\n",
       "<tr>\n",
       "  <th>Date:</th>             <td>Mon, 20 Mar 2023</td> <th>  Prob (F-statistic):</th>  <td>0.00107</td>\n",
       "</tr>\n",
       "<tr>\n",
       "  <th>Time:</th>                 <td>22:35:10</td>     <th>  Log-Likelihood:    </th> <td> -108.39</td>\n",
       "</tr>\n",
       "<tr>\n",
       "  <th>No. Observations:</th>      <td>    96</td>      <th>  AIC:               </th> <td>   224.8</td>\n",
       "</tr>\n",
       "<tr>\n",
       "  <th>Df Residuals:</th>          <td>    92</td>      <th>  BIC:               </th> <td>   235.0</td>\n",
       "</tr>\n",
       "<tr>\n",
       "  <th>Df Model:</th>              <td>     3</td>      <th>                     </th>     <td> </td>   \n",
       "</tr>\n",
       "<tr>\n",
       "  <th>Covariance Type:</th>      <td>nonrobust</td>    <th>                     </th>     <td> </td>   \n",
       "</tr>\n",
       "</table>\n",
       "<table class=\"simpletable\">\n",
       "<tr>\n",
       "           <td></td>             <th>coef</th>     <th>std err</th>      <th>t</th>      <th>P>|t|</th>  <th>[0.025</th>    <th>0.975]</th>  \n",
       "</tr>\n",
       "<tr>\n",
       "  <th>Intercept</th>          <td>    1.2667</td> <td>    0.197</td> <td>    6.418</td> <td> 0.000</td> <td>    0.875</td> <td>    1.659</td>\n",
       "</tr>\n",
       "<tr>\n",
       "  <th>y_flag[T.good]</th>     <td>    0.8184</td> <td>    0.227</td> <td>    3.610</td> <td> 0.000</td> <td>    0.368</td> <td>    1.269</td>\n",
       "</tr>\n",
       "<tr>\n",
       "  <th>y_flag[T.moderate]</th> <td>    0.9000</td> <td>    0.242</td> <td>    3.723</td> <td> 0.000</td> <td>    0.420</td> <td>    1.380</td>\n",
       "</tr>\n",
       "<tr>\n",
       "  <th>y_flag[T.low]</th>      <td>    1.2333</td> <td>    0.430</td> <td>    2.867</td> <td> 0.005</td> <td>    0.379</td> <td>    2.088</td>\n",
       "</tr>\n",
       "</table>\n",
       "<table class=\"simpletable\">\n",
       "<tr>\n",
       "  <th>Omnibus:</th>       <td>27.403</td> <th>  Durbin-Watson:     </th> <td>   0.366</td>\n",
       "</tr>\n",
       "<tr>\n",
       "  <th>Prob(Omnibus):</th> <td> 0.000</td> <th>  Jarque-Bera (JB):  </th> <td>   6.356</td>\n",
       "</tr>\n",
       "<tr>\n",
       "  <th>Skew:</th>          <td>-0.247</td> <th>  Prob(JB):          </th> <td>  0.0417</td>\n",
       "</tr>\n",
       "<tr>\n",
       "  <th>Kurtosis:</th>      <td> 1.840</td> <th>  Cond. No.          </th> <td>    7.18</td>\n",
       "</tr>\n",
       "</table><br/><br/>Notes:<br/>[1] Standard Errors assume that the covariance matrix of the errors is correctly specified."
      ],
      "text/plain": [
       "<class 'statsmodels.iolib.summary.Summary'>\n",
       "\"\"\"\n",
       "                            OLS Regression Results                            \n",
       "==============================================================================\n",
       "Dep. Variable:             fertilizer   R-squared:                       0.160\n",
       "Model:                            OLS   Adj. R-squared:                  0.133\n",
       "Method:                 Least Squares   F-statistic:                     5.842\n",
       "Date:                Mon, 20 Mar 2023   Prob (F-statistic):            0.00107\n",
       "Time:                        22:35:10   Log-Likelihood:                -108.39\n",
       "No. Observations:                  96   AIC:                             224.8\n",
       "Df Residuals:                      92   BIC:                             235.0\n",
       "Df Model:                           3                                         \n",
       "Covariance Type:            nonrobust                                         \n",
       "======================================================================================\n",
       "                         coef    std err          t      P>|t|      [0.025      0.975]\n",
       "--------------------------------------------------------------------------------------\n",
       "Intercept              1.2667      0.197      6.418      0.000       0.875       1.659\n",
       "y_flag[T.good]         0.8184      0.227      3.610      0.000       0.368       1.269\n",
       "y_flag[T.moderate]     0.9000      0.242      3.723      0.000       0.420       1.380\n",
       "y_flag[T.low]          1.2333      0.430      2.867      0.005       0.379       2.088\n",
       "==============================================================================\n",
       "Omnibus:                       27.403   Durbin-Watson:                   0.366\n",
       "Prob(Omnibus):                  0.000   Jarque-Bera (JB):                6.356\n",
       "Skew:                          -0.247   Prob(JB):                       0.0417\n",
       "Kurtosis:                       1.840   Cond. No.                         7.18\n",
       "==============================================================================\n",
       "\n",
       "Notes:\n",
       "[1] Standard Errors assume that the covariance matrix of the errors is correctly specified.\n",
       "\"\"\""
      ]
     },
     "execution_count": 431,
     "metadata": {},
     "output_type": "execute_result"
    }
   ],
   "source": [
    "mod2.summary()"
   ]
  },
  {
   "cell_type": "code",
   "execution_count": 432,
   "id": "f41576b8",
   "metadata": {},
   "outputs": [],
   "source": [
    "pair_t_fer=mod2.t_test_pairwise('y_flag')"
   ]
  },
  {
   "cell_type": "code",
   "execution_count": 433,
   "id": "de8e6f68",
   "metadata": {},
   "outputs": [
    {
     "data": {
      "text/html": [
       "<div>\n",
       "<style scoped>\n",
       "    .dataframe tbody tr th:only-of-type {\n",
       "        vertical-align: middle;\n",
       "    }\n",
       "\n",
       "    .dataframe tbody tr th {\n",
       "        vertical-align: top;\n",
       "    }\n",
       "\n",
       "    .dataframe thead th {\n",
       "        text-align: right;\n",
       "    }\n",
       "</style>\n",
       "<table border=\"1\" class=\"dataframe\">\n",
       "  <thead>\n",
       "    <tr style=\"text-align: right;\">\n",
       "      <th></th>\n",
       "      <th>df</th>\n",
       "      <th>sum_sq</th>\n",
       "      <th>mean_sq</th>\n",
       "      <th>F</th>\n",
       "      <th>PR(&gt;F)</th>\n",
       "    </tr>\n",
       "  </thead>\n",
       "  <tbody>\n",
       "    <tr>\n",
       "      <th>y_flag</th>\n",
       "      <td>3.0</td>\n",
       "      <td>10.240426</td>\n",
       "      <td>3.413475</td>\n",
       "      <td>5.841559</td>\n",
       "      <td>0.001068</td>\n",
       "    </tr>\n",
       "    <tr>\n",
       "      <th>Residual</th>\n",
       "      <td>92.0</td>\n",
       "      <td>53.759574</td>\n",
       "      <td>0.584343</td>\n",
       "      <td>NaN</td>\n",
       "      <td>NaN</td>\n",
       "    </tr>\n",
       "  </tbody>\n",
       "</table>\n",
       "</div>"
      ],
      "text/plain": [
       "            df     sum_sq   mean_sq         F    PR(>F)\n",
       "y_flag     3.0  10.240426  3.413475  5.841559  0.001068\n",
       "Residual  92.0  53.759574  0.584343       NaN       NaN"
      ]
     },
     "execution_count": 433,
     "metadata": {},
     "output_type": "execute_result"
    }
   ],
   "source": [
    "sm.stats.anova_lm(mod2, type=2)"
   ]
  },
  {
   "cell_type": "code",
   "execution_count": 434,
   "id": "2fefe981",
   "metadata": {},
   "outputs": [
    {
     "data": {
      "text/html": [
       "<div>\n",
       "<style scoped>\n",
       "    .dataframe tbody tr th:only-of-type {\n",
       "        vertical-align: middle;\n",
       "    }\n",
       "\n",
       "    .dataframe tbody tr th {\n",
       "        vertical-align: top;\n",
       "    }\n",
       "\n",
       "    .dataframe thead th {\n",
       "        text-align: right;\n",
       "    }\n",
       "</style>\n",
       "<table border=\"1\" class=\"dataframe\">\n",
       "  <thead>\n",
       "    <tr style=\"text-align: right;\">\n",
       "      <th></th>\n",
       "      <th>coef</th>\n",
       "      <th>std err</th>\n",
       "      <th>t</th>\n",
       "      <th>P&gt;|t|</th>\n",
       "      <th>Conf. Int. Low</th>\n",
       "      <th>Conf. Int. Upp.</th>\n",
       "      <th>pvalue-hs</th>\n",
       "      <th>reject-hs</th>\n",
       "    </tr>\n",
       "  </thead>\n",
       "  <tbody>\n",
       "    <tr>\n",
       "      <th>good-very_good</th>\n",
       "      <td>0.818440</td>\n",
       "      <td>0.226692</td>\n",
       "      <td>3.610368</td>\n",
       "      <td>0.000498</td>\n",
       "      <td>0.368211</td>\n",
       "      <td>1.268669</td>\n",
       "      <td>0.002485</td>\n",
       "      <td>True</td>\n",
       "    </tr>\n",
       "    <tr>\n",
       "      <th>moderate-very_good</th>\n",
       "      <td>0.900000</td>\n",
       "      <td>0.241732</td>\n",
       "      <td>3.723133</td>\n",
       "      <td>0.000339</td>\n",
       "      <td>0.419900</td>\n",
       "      <td>1.380100</td>\n",
       "      <td>0.002031</td>\n",
       "      <td>True</td>\n",
       "    </tr>\n",
       "    <tr>\n",
       "      <th>low-very_good</th>\n",
       "      <td>1.233333</td>\n",
       "      <td>0.430165</td>\n",
       "      <td>2.867116</td>\n",
       "      <td>0.005135</td>\n",
       "      <td>0.378988</td>\n",
       "      <td>2.087678</td>\n",
       "      <td>0.020383</td>\n",
       "      <td>True</td>\n",
       "    </tr>\n",
       "    <tr>\n",
       "      <th>moderate-good</th>\n",
       "      <td>0.081560</td>\n",
       "      <td>0.178636</td>\n",
       "      <td>0.456572</td>\n",
       "      <td>0.649055</td>\n",
       "      <td>-0.273227</td>\n",
       "      <td>0.436347</td>\n",
       "      <td>0.657521</td>\n",
       "      <td>False</td>\n",
       "    </tr>\n",
       "    <tr>\n",
       "      <th>low-good</th>\n",
       "      <td>0.414894</td>\n",
       "      <td>0.398144</td>\n",
       "      <td>1.042069</td>\n",
       "      <td>0.300110</td>\n",
       "      <td>-0.375855</td>\n",
       "      <td>1.205642</td>\n",
       "      <td>0.657162</td>\n",
       "      <td>False</td>\n",
       "    </tr>\n",
       "    <tr>\n",
       "      <th>low-moderate</th>\n",
       "      <td>0.333333</td>\n",
       "      <td>0.406895</td>\n",
       "      <td>0.819211</td>\n",
       "      <td>0.414783</td>\n",
       "      <td>-0.474796</td>\n",
       "      <td>1.141463</td>\n",
       "      <td>0.657521</td>\n",
       "      <td>False</td>\n",
       "    </tr>\n",
       "  </tbody>\n",
       "</table>\n",
       "</div>"
      ],
      "text/plain": [
       "                        coef   std err         t     P>|t|  Conf. Int. Low  \\\n",
       "good-very_good      0.818440  0.226692  3.610368  0.000498        0.368211   \n",
       "moderate-very_good  0.900000  0.241732  3.723133  0.000339        0.419900   \n",
       "low-very_good       1.233333  0.430165  2.867116  0.005135        0.378988   \n",
       "moderate-good       0.081560  0.178636  0.456572  0.649055       -0.273227   \n",
       "low-good            0.414894  0.398144  1.042069  0.300110       -0.375855   \n",
       "low-moderate        0.333333  0.406895  0.819211  0.414783       -0.474796   \n",
       "\n",
       "                    Conf. Int. Upp.  pvalue-hs  reject-hs  \n",
       "good-very_good             1.268669   0.002485       True  \n",
       "moderate-very_good         1.380100   0.002031       True  \n",
       "low-very_good              2.087678   0.020383       True  \n",
       "moderate-good              0.436347   0.657521      False  \n",
       "low-good                   1.205642   0.657162      False  \n",
       "low-moderate               1.141463   0.657521      False  "
      ]
     },
     "execution_count": 434,
     "metadata": {},
     "output_type": "execute_result"
    }
   ],
   "source": [
    "# post hoce pairwise test\n",
    "pair_t_fer.result_frame"
   ]
  },
  {
   "cell_type": "code",
   "execution_count": 435,
   "id": "f04873cf",
   "metadata": {},
   "outputs": [],
   "source": [
    "# for fertilizer we can see the mean is not same for each level"
   ]
  },
  {
   "cell_type": "markdown",
   "id": "39dd90b4",
   "metadata": {},
   "source": [
    "# Pingouin easy method \n",
    "https://pingouin-stats.org/build/html/index.html\n",
    "    "
   ]
  },
  {
   "cell_type": "code",
   "execution_count": 436,
   "id": "66cb7e65",
   "metadata": {},
   "outputs": [],
   "source": [
    "import pingouin as pg"
   ]
  },
  {
   "cell_type": "code",
   "execution_count": 437,
   "id": "20247332",
   "metadata": {},
   "outputs": [
    {
     "data": {
      "text/html": [
       "<div>\n",
       "<style scoped>\n",
       "    .dataframe tbody tr th:only-of-type {\n",
       "        vertical-align: middle;\n",
       "    }\n",
       "\n",
       "    .dataframe tbody tr th {\n",
       "        vertical-align: top;\n",
       "    }\n",
       "\n",
       "    .dataframe thead th {\n",
       "        text-align: right;\n",
       "    }\n",
       "</style>\n",
       "<table border=\"1\" class=\"dataframe\">\n",
       "  <thead>\n",
       "    <tr style=\"text-align: right;\">\n",
       "      <th></th>\n",
       "      <th>Source</th>\n",
       "      <th>SS</th>\n",
       "      <th>DF</th>\n",
       "      <th>MS</th>\n",
       "      <th>F</th>\n",
       "      <th>p-unc</th>\n",
       "      <th>np2</th>\n",
       "    </tr>\n",
       "  </thead>\n",
       "  <tbody>\n",
       "    <tr>\n",
       "      <th>0</th>\n",
       "      <td>y_flag</td>\n",
       "      <td>10.240426</td>\n",
       "      <td>3</td>\n",
       "      <td>3.413475</td>\n",
       "      <td>5.841559</td>\n",
       "      <td>0.001068</td>\n",
       "      <td>0.160007</td>\n",
       "    </tr>\n",
       "    <tr>\n",
       "      <th>1</th>\n",
       "      <td>Within</td>\n",
       "      <td>53.759574</td>\n",
       "      <td>92</td>\n",
       "      <td>0.584343</td>\n",
       "      <td>NaN</td>\n",
       "      <td>NaN</td>\n",
       "      <td>NaN</td>\n",
       "    </tr>\n",
       "  </tbody>\n",
       "</table>\n",
       "</div>"
      ],
      "text/plain": [
       "   Source         SS  DF        MS         F     p-unc       np2\n",
       "0  y_flag  10.240426   3  3.413475  5.841559  0.001068  0.160007\n",
       "1  Within  53.759574  92  0.584343       NaN       NaN       NaN"
      ]
     },
     "execution_count": 437,
     "metadata": {},
     "output_type": "execute_result"
    }
   ],
   "source": [
    "pg_anova=pg.anova(dv=\"fertilizer\", between=\"y_flag\", data=inp0, detailed=True)\n",
    "pg_anova"
   ]
  },
  {
   "cell_type": "code",
   "execution_count": 438,
   "id": "eff386d1",
   "metadata": {},
   "outputs": [
    {
     "data": {
      "text/html": [
       "<div>\n",
       "<style scoped>\n",
       "    .dataframe tbody tr th:only-of-type {\n",
       "        vertical-align: middle;\n",
       "    }\n",
       "\n",
       "    .dataframe tbody tr th {\n",
       "        vertical-align: top;\n",
       "    }\n",
       "\n",
       "    .dataframe thead th {\n",
       "        text-align: right;\n",
       "    }\n",
       "</style>\n",
       "<table border=\"1\" class=\"dataframe\">\n",
       "  <thead>\n",
       "    <tr style=\"text-align: right;\">\n",
       "      <th></th>\n",
       "      <th>A</th>\n",
       "      <th>B</th>\n",
       "      <th>mean(A)</th>\n",
       "      <th>mean(B)</th>\n",
       "      <th>diff</th>\n",
       "      <th>se</th>\n",
       "      <th>T</th>\n",
       "      <th>p-tukey</th>\n",
       "      <th>hedges</th>\n",
       "    </tr>\n",
       "  </thead>\n",
       "  <tbody>\n",
       "    <tr>\n",
       "      <th>0</th>\n",
       "      <td>very_good</td>\n",
       "      <td>good</td>\n",
       "      <td>1.266667</td>\n",
       "      <td>2.085106</td>\n",
       "      <td>-0.818440</td>\n",
       "      <td>0.226692</td>\n",
       "      <td>-3.610368</td>\n",
       "      <td>0.002757</td>\n",
       "      <td>-1.131791</td>\n",
       "    </tr>\n",
       "    <tr>\n",
       "      <th>1</th>\n",
       "      <td>very_good</td>\n",
       "      <td>moderate</td>\n",
       "      <td>1.266667</td>\n",
       "      <td>2.166667</td>\n",
       "      <td>-0.900000</td>\n",
       "      <td>0.241732</td>\n",
       "      <td>-3.723133</td>\n",
       "      <td>0.001894</td>\n",
       "      <td>-1.206379</td>\n",
       "    </tr>\n",
       "    <tr>\n",
       "      <th>2</th>\n",
       "      <td>very_good</td>\n",
       "      <td>low</td>\n",
       "      <td>1.266667</td>\n",
       "      <td>2.500000</td>\n",
       "      <td>-1.233333</td>\n",
       "      <td>0.430165</td>\n",
       "      <td>-2.867116</td>\n",
       "      <td>0.025963</td>\n",
       "      <td>-1.994163</td>\n",
       "    </tr>\n",
       "    <tr>\n",
       "      <th>3</th>\n",
       "      <td>good</td>\n",
       "      <td>moderate</td>\n",
       "      <td>2.085106</td>\n",
       "      <td>2.166667</td>\n",
       "      <td>-0.081560</td>\n",
       "      <td>0.178636</td>\n",
       "      <td>-0.456572</td>\n",
       "      <td>0.968185</td>\n",
       "      <td>-0.101111</td>\n",
       "    </tr>\n",
       "    <tr>\n",
       "      <th>4</th>\n",
       "      <td>good</td>\n",
       "      <td>low</td>\n",
       "      <td>2.085106</td>\n",
       "      <td>2.500000</td>\n",
       "      <td>-0.414894</td>\n",
       "      <td>0.398144</td>\n",
       "      <td>-1.042069</td>\n",
       "      <td>0.725230</td>\n",
       "      <td>-0.516438</td>\n",
       "    </tr>\n",
       "    <tr>\n",
       "      <th>5</th>\n",
       "      <td>moderate</td>\n",
       "      <td>low</td>\n",
       "      <td>2.166667</td>\n",
       "      <td>2.500000</td>\n",
       "      <td>-0.333333</td>\n",
       "      <td>0.406895</td>\n",
       "      <td>-0.819211</td>\n",
       "      <td>0.845248</td>\n",
       "      <td>-0.382507</td>\n",
       "    </tr>\n",
       "  </tbody>\n",
       "</table>\n",
       "</div>"
      ],
      "text/plain": [
       "           A         B   mean(A)   mean(B)      diff        se         T  \\\n",
       "0  very_good      good  1.266667  2.085106 -0.818440  0.226692 -3.610368   \n",
       "1  very_good  moderate  1.266667  2.166667 -0.900000  0.241732 -3.723133   \n",
       "2  very_good       low  1.266667  2.500000 -1.233333  0.430165 -2.867116   \n",
       "3       good  moderate  2.085106  2.166667 -0.081560  0.178636 -0.456572   \n",
       "4       good       low  2.085106  2.500000 -0.414894  0.398144 -1.042069   \n",
       "5   moderate       low  2.166667  2.500000 -0.333333  0.406895 -0.819211   \n",
       "\n",
       "    p-tukey    hedges  \n",
       "0  0.002757 -1.131791  \n",
       "1  0.001894 -1.206379  \n",
       "2  0.025963 -1.994163  \n",
       "3  0.968185 -0.101111  \n",
       "4  0.725230 -0.516438  \n",
       "5  0.845248 -0.382507  "
      ]
     },
     "execution_count": 438,
     "metadata": {},
     "output_type": "execute_result"
    }
   ],
   "source": [
    "# pairwise\n",
    "\n",
    "pg.pairwise_tukey(dv=\"fertilizer\", between=\"y_flag\", data=inp0)"
   ]
  },
  {
   "cell_type": "code",
   "execution_count": 439,
   "id": "740bd1fa",
   "metadata": {},
   "outputs": [],
   "source": [
    "# the mean of very_good with good, moderate and low are significantly differ "
   ]
  },
  {
   "cell_type": "code",
   "execution_count": 440,
   "id": "8d7069d4",
   "metadata": {},
   "outputs": [
    {
     "data": {
      "text/html": [
       "<div>\n",
       "<style scoped>\n",
       "    .dataframe tbody tr th:only-of-type {\n",
       "        vertical-align: middle;\n",
       "    }\n",
       "\n",
       "    .dataframe tbody tr th {\n",
       "        vertical-align: top;\n",
       "    }\n",
       "\n",
       "    .dataframe thead th {\n",
       "        text-align: right;\n",
       "    }\n",
       "</style>\n",
       "<table border=\"1\" class=\"dataframe\">\n",
       "  <thead>\n",
       "    <tr style=\"text-align: right;\">\n",
       "      <th></th>\n",
       "      <th>Contrast</th>\n",
       "      <th>A</th>\n",
       "      <th>B</th>\n",
       "      <th>Paired</th>\n",
       "      <th>Parametric</th>\n",
       "      <th>T</th>\n",
       "      <th>dof</th>\n",
       "      <th>alternative</th>\n",
       "      <th>p-unc</th>\n",
       "      <th>BF10</th>\n",
       "      <th>hedges</th>\n",
       "    </tr>\n",
       "  </thead>\n",
       "  <tbody>\n",
       "    <tr>\n",
       "      <th>0</th>\n",
       "      <td>y_flag</td>\n",
       "      <td>very_good</td>\n",
       "      <td>good</td>\n",
       "      <td>False</td>\n",
       "      <td>True</td>\n",
       "      <td>-5.002986</td>\n",
       "      <td>40.937642</td>\n",
       "      <td>two-sided</td>\n",
       "      <td>0.000011</td>\n",
       "      <td>2800.485</td>\n",
       "      <td>-1.131791</td>\n",
       "    </tr>\n",
       "    <tr>\n",
       "      <th>1</th>\n",
       "      <td>y_flag</td>\n",
       "      <td>very_good</td>\n",
       "      <td>moderate</td>\n",
       "      <td>False</td>\n",
       "      <td>True</td>\n",
       "      <td>-4.669527</td>\n",
       "      <td>42.507640</td>\n",
       "      <td>two-sided</td>\n",
       "      <td>0.000030</td>\n",
       "      <td>610.098</td>\n",
       "      <td>-1.206379</td>\n",
       "    </tr>\n",
       "    <tr>\n",
       "      <th>2</th>\n",
       "      <td>y_flag</td>\n",
       "      <td>very_good</td>\n",
       "      <td>low</td>\n",
       "      <td>False</td>\n",
       "      <td>True</td>\n",
       "      <td>-2.400516</td>\n",
       "      <td>3.342368</td>\n",
       "      <td>two-sided</td>\n",
       "      <td>0.086997</td>\n",
       "      <td>2.473</td>\n",
       "      <td>-1.994163</td>\n",
       "    </tr>\n",
       "    <tr>\n",
       "      <th>3</th>\n",
       "      <td>y_flag</td>\n",
       "      <td>good</td>\n",
       "      <td>moderate</td>\n",
       "      <td>False</td>\n",
       "      <td>True</td>\n",
       "      <td>-0.430018</td>\n",
       "      <td>58.592934</td>\n",
       "      <td>two-sided</td>\n",
       "      <td>0.668760</td>\n",
       "      <td>0.261</td>\n",
       "      <td>-0.101111</td>\n",
       "    </tr>\n",
       "    <tr>\n",
       "      <th>4</th>\n",
       "      <td>y_flag</td>\n",
       "      <td>good</td>\n",
       "      <td>low</td>\n",
       "      <td>False</td>\n",
       "      <td>True</td>\n",
       "      <td>-0.809337</td>\n",
       "      <td>3.314335</td>\n",
       "      <td>two-sided</td>\n",
       "      <td>0.472382</td>\n",
       "      <td>0.541</td>\n",
       "      <td>-0.516438</td>\n",
       "    </tr>\n",
       "    <tr>\n",
       "      <th>5</th>\n",
       "      <td>y_flag</td>\n",
       "      <td>moderate</td>\n",
       "      <td>low</td>\n",
       "      <td>False</td>\n",
       "      <td>True</td>\n",
       "      <td>-0.637756</td>\n",
       "      <td>3.578930</td>\n",
       "      <td>two-sided</td>\n",
       "      <td>0.562129</td>\n",
       "      <td>0.506</td>\n",
       "      <td>-0.382507</td>\n",
       "    </tr>\n",
       "  </tbody>\n",
       "</table>\n",
       "</div>"
      ],
      "text/plain": [
       "  Contrast          A         B  Paired  Parametric         T        dof  \\\n",
       "0   y_flag  very_good      good   False        True -5.002986  40.937642   \n",
       "1   y_flag  very_good  moderate   False        True -4.669527  42.507640   \n",
       "2   y_flag  very_good       low   False        True -2.400516   3.342368   \n",
       "3   y_flag       good  moderate   False        True -0.430018  58.592934   \n",
       "4   y_flag       good       low   False        True -0.809337   3.314335   \n",
       "5   y_flag   moderate       low   False        True -0.637756   3.578930   \n",
       "\n",
       "  alternative     p-unc      BF10    hedges  \n",
       "0   two-sided  0.000011  2800.485 -1.131791  \n",
       "1   two-sided  0.000030   610.098 -1.206379  \n",
       "2   two-sided  0.086997     2.473 -1.994163  \n",
       "3   two-sided  0.668760     0.261 -0.101111  \n",
       "4   two-sided  0.472382     0.541 -0.516438  \n",
       "5   two-sided  0.562129     0.506 -0.382507  "
      ]
     },
     "execution_count": 440,
     "metadata": {},
     "output_type": "execute_result"
    }
   ],
   "source": [
    "# post_hoc pair wise test\n",
    "\n",
    "pg.pairwise_tests(dv=\"fertilizer\", between=\"y_flag\", data=inp0)"
   ]
  },
  {
   "cell_type": "markdown",
   "id": "39a00c7d",
   "metadata": {},
   "source": [
    "# 2 way Annova"
   ]
  },
  {
   "cell_type": "markdown",
   "id": "b32ad40d",
   "metadata": {},
   "source": [
    "# H0: density\tblock\tfertilizer are having same mean over the yield group\n",
    "# H1: density\tblock\tfertilizer are atleaset one not having same mean over the yield group"
   ]
  },
  {
   "cell_type": "code",
   "execution_count": 441,
   "id": "1f5dea85",
   "metadata": {},
   "outputs": [
    {
     "data": {
      "text/html": [
       "<div>\n",
       "<style scoped>\n",
       "    .dataframe tbody tr th:only-of-type {\n",
       "        vertical-align: middle;\n",
       "    }\n",
       "\n",
       "    .dataframe tbody tr th {\n",
       "        vertical-align: top;\n",
       "    }\n",
       "\n",
       "    .dataframe thead th {\n",
       "        text-align: right;\n",
       "    }\n",
       "</style>\n",
       "<table border=\"1\" class=\"dataframe\">\n",
       "  <thead>\n",
       "    <tr style=\"text-align: right;\">\n",
       "      <th></th>\n",
       "      <th>density</th>\n",
       "      <th>block</th>\n",
       "      <th>fertilizer</th>\n",
       "      <th>yield</th>\n",
       "      <th>y_flag</th>\n",
       "    </tr>\n",
       "  </thead>\n",
       "  <tbody>\n",
       "    <tr>\n",
       "      <th>0</th>\n",
       "      <td>1</td>\n",
       "      <td>1</td>\n",
       "      <td>1</td>\n",
       "      <td>177.228692</td>\n",
       "      <td>moderate</td>\n",
       "    </tr>\n",
       "  </tbody>\n",
       "</table>\n",
       "</div>"
      ],
      "text/plain": [
       "   density  block  fertilizer       yield    y_flag\n",
       "0        1      1           1  177.228692  moderate"
      ]
     },
     "execution_count": 441,
     "metadata": {},
     "output_type": "execute_result"
    }
   ],
   "source": [
    "inp0.head(1)"
   ]
  },
  {
   "cell_type": "code",
   "execution_count": 442,
   "id": "cfcb9ad6",
   "metadata": {},
   "outputs": [
    {
     "data": {
      "text/plain": [
       "<seaborn.axisgrid.PairGrid at 0x1ac498ecac0>"
      ]
     },
     "execution_count": 442,
     "metadata": {},
     "output_type": "execute_result"
    },
    {
     "data": {
      "image/png": "[encoded data removed]",
      "text/plain": [
       "<Figure size 872.5x1000 with 15 Axes>"
      ]
     },
     "metadata": {},
     "output_type": "display_data"
    }
   ],
   "source": [
    "sns.pairplot(data=inp0,x_vars=[\"density\",\"block\",\"fertilizer\"],  hue='y_flag' )"
   ]
  },
  {
   "cell_type": "code",
   "execution_count": 443,
   "id": "168706cb",
   "metadata": {},
   "outputs": [
    {
     "data": {
      "image/png": "[encoded data removed]",
      "text/plain": [
       "<Figure size 640x480 with 1 Axes>"
      ]
     },
     "metadata": {},
     "output_type": "display_data"
    }
   ],
   "source": [
    "fig=interaction_plot(x= inp0.density,trace=inp0['fertilizer'], response= inp0['yield'], markers=['D', \"x\", \"*\"])\n",
    "\n",
    "# we can see the fertilizer and density are having significance diffrene in some points"
   ]
  },
  {
   "cell_type": "code",
   "execution_count": 444,
   "id": "6be917cd",
   "metadata": {},
   "outputs": [
    {
     "data": {
      "image/png": "[encoded data removed]",
      "text/plain": [
       "<Figure size 640x480 with 1 Axes>"
      ]
     },
     "metadata": {},
     "output_type": "display_data"
    }
   ],
   "source": [
    "fig=interaction_plot(x= inp0.block,trace=inp0['fertilizer'], response= inp0['yield'], markers=['D', \"x\", \"*\"])\n",
    "\n",
    "# we can see the fertilizer and block are having significance diffrene in some points"
   ]
  },
  {
   "cell_type": "code",
   "execution_count": 445,
   "id": "1bab0a91",
   "metadata": {},
   "outputs": [],
   "source": [
    "# ols('Completion_Time ~ C(Program) + C(Experience) + C(Program):C(Experience)', data=df).fit()"
   ]
  },
  {
   "cell_type": "code",
   "execution_count": 446,
   "id": "69be7bb2",
   "metadata": {},
   "outputs": [
    {
     "data": {
      "text/plain": [
       "Index(['density', 'block', 'fertilizer', 'yield', 'y_flag'], dtype='object')"
      ]
     },
     "execution_count": 446,
     "metadata": {},
     "output_type": "execute_result"
    }
   ],
   "source": [
    "inp0.columns"
   ]
  },
  {
   "cell_type": "code",
   "execution_count": 447,
   "id": "acfbb0ea",
   "metadata": {},
   "outputs": [],
   "source": [
    "inp0.rename(columns={'yield': 'Y'}, inplace=True)"
   ]
  },
  {
   "cell_type": "code",
   "execution_count": 471,
   "id": "42238734",
   "metadata": {},
   "outputs": [],
   "source": [
    "mod_2=ols('Y ~ C(block) + C(fertilizer) +C(density) + C(block):C(fertilizer):C(density)', data=inp0[[\"block\", \"fertilizer\", \"Y\", \"density\"]])\n",
    "mod_2=mod_2.fit()"
   ]
  },
  {
   "cell_type": "code",
   "execution_count": 476,
   "id": "d099d01e",
   "metadata": {},
   "outputs": [],
   "source": [
    "df=sm.stats.anova_lm(mod_2, type=2)"
   ]
  },
  {
   "cell_type": "code",
   "execution_count": 477,
   "id": "f84aa5e4",
   "metadata": {},
   "outputs": [
    {
     "data": {
      "text/html": [
       "<div>\n",
       "<style scoped>\n",
       "    .dataframe tbody tr th:only-of-type {\n",
       "        vertical-align: middle;\n",
       "    }\n",
       "\n",
       "    .dataframe tbody tr th {\n",
       "        vertical-align: top;\n",
       "    }\n",
       "\n",
       "    .dataframe thead th {\n",
       "        text-align: right;\n",
       "    }\n",
       "</style>\n",
       "<table border=\"1\" class=\"dataframe\">\n",
       "  <thead>\n",
       "    <tr style=\"text-align: right;\">\n",
       "      <th></th>\n",
       "      <th>df</th>\n",
       "      <th>sum_sq</th>\n",
       "      <th>mean_sq</th>\n",
       "      <th>F</th>\n",
       "      <th>PR(&gt;F)</th>\n",
       "    </tr>\n",
       "  </thead>\n",
       "  <tbody>\n",
       "    <tr>\n",
       "      <th>C(block)</th>\n",
       "      <td>3.0</td>\n",
       "      <td>5.607820</td>\n",
       "      <td>1.869273</td>\n",
       "      <td>5.421336</td>\n",
       "      <td>0.001856</td>\n",
       "    </tr>\n",
       "    <tr>\n",
       "      <th>C(fertilizer)</th>\n",
       "      <td>2.0</td>\n",
       "      <td>6.068047</td>\n",
       "      <td>3.034023</td>\n",
       "      <td>8.799388</td>\n",
       "      <td>0.000339</td>\n",
       "    </tr>\n",
       "    <tr>\n",
       "      <th>C(density)</th>\n",
       "      <td>1.0</td>\n",
       "      <td>0.608166</td>\n",
       "      <td>0.608166</td>\n",
       "      <td>1.763826</td>\n",
       "      <td>0.187745</td>\n",
       "    </tr>\n",
       "    <tr>\n",
       "      <th>C(block):C(fertilizer):C(density)</th>\n",
       "      <td>17.0</td>\n",
       "      <td>5.580443</td>\n",
       "      <td>0.328261</td>\n",
       "      <td>0.952036</td>\n",
       "      <td>0.518186</td>\n",
       "    </tr>\n",
       "    <tr>\n",
       "      <th>Residual</th>\n",
       "      <td>84.0</td>\n",
       "      <td>28.963147</td>\n",
       "      <td>0.344799</td>\n",
       "      <td>NaN</td>\n",
       "      <td>NaN</td>\n",
       "    </tr>\n",
       "  </tbody>\n",
       "</table>\n",
       "</div>"
      ],
      "text/plain": [
       "                                     df     sum_sq   mean_sq         F  \\\n",
       "C(block)                            3.0   5.607820  1.869273  5.421336   \n",
       "C(fertilizer)                       2.0   6.068047  3.034023  8.799388   \n",
       "C(density)                          1.0   0.608166  0.608166  1.763826   \n",
       "C(block):C(fertilizer):C(density)  17.0   5.580443  0.328261  0.952036   \n",
       "Residual                           84.0  28.963147  0.344799       NaN   \n",
       "\n",
       "                                     PR(>F)  \n",
       "C(block)                           0.001856  \n",
       "C(fertilizer)                      0.000339  \n",
       "C(density)                         0.187745  \n",
       "C(block):C(fertilizer):C(density)  0.518186  \n",
       "Residual                                NaN  "
      ]
     },
     "execution_count": 477,
     "metadata": {},
     "output_type": "execute_result"
    }
   ],
   "source": [
    "df"
   ]
  },
  {
   "cell_type": "code",
   "execution_count": 480,
   "id": "7f52cd59",
   "metadata": {},
   "outputs": [],
   "source": [
    "df[\"PR(>F)_flag\"]=df[\"PR(>F)\"].apply(lambda x: \"Reject\" if x<0.05 else \"Accept\")"
   ]
  },
  {
   "cell_type": "code",
   "execution_count": 481,
   "id": "61b605b8",
   "metadata": {},
   "outputs": [
    {
     "data": {
      "text/html": [
       "<div>\n",
       "<style scoped>\n",
       "    .dataframe tbody tr th:only-of-type {\n",
       "        vertical-align: middle;\n",
       "    }\n",
       "\n",
       "    .dataframe tbody tr th {\n",
       "        vertical-align: top;\n",
       "    }\n",
       "\n",
       "    .dataframe thead th {\n",
       "        text-align: right;\n",
       "    }\n",
       "</style>\n",
       "<table border=\"1\" class=\"dataframe\">\n",
       "  <thead>\n",
       "    <tr style=\"text-align: right;\">\n",
       "      <th></th>\n",
       "      <th>df</th>\n",
       "      <th>sum_sq</th>\n",
       "      <th>mean_sq</th>\n",
       "      <th>F</th>\n",
       "      <th>PR(&gt;F)</th>\n",
       "      <th>PR(&gt;F)_flag</th>\n",
       "    </tr>\n",
       "  </thead>\n",
       "  <tbody>\n",
       "    <tr>\n",
       "      <th>C(block)</th>\n",
       "      <td>3.0</td>\n",
       "      <td>5.607820</td>\n",
       "      <td>1.869273</td>\n",
       "      <td>5.421336</td>\n",
       "      <td>0.001856</td>\n",
       "      <td>Reject</td>\n",
       "    </tr>\n",
       "    <tr>\n",
       "      <th>C(fertilizer)</th>\n",
       "      <td>2.0</td>\n",
       "      <td>6.068047</td>\n",
       "      <td>3.034023</td>\n",
       "      <td>8.799388</td>\n",
       "      <td>0.000339</td>\n",
       "      <td>Reject</td>\n",
       "    </tr>\n",
       "    <tr>\n",
       "      <th>C(density)</th>\n",
       "      <td>1.0</td>\n",
       "      <td>0.608166</td>\n",
       "      <td>0.608166</td>\n",
       "      <td>1.763826</td>\n",
       "      <td>0.187745</td>\n",
       "      <td>Accept</td>\n",
       "    </tr>\n",
       "    <tr>\n",
       "      <th>C(block):C(fertilizer):C(density)</th>\n",
       "      <td>17.0</td>\n",
       "      <td>5.580443</td>\n",
       "      <td>0.328261</td>\n",
       "      <td>0.952036</td>\n",
       "      <td>0.518186</td>\n",
       "      <td>Accept</td>\n",
       "    </tr>\n",
       "    <tr>\n",
       "      <th>Residual</th>\n",
       "      <td>84.0</td>\n",
       "      <td>28.963147</td>\n",
       "      <td>0.344799</td>\n",
       "      <td>NaN</td>\n",
       "      <td>NaN</td>\n",
       "      <td>Accept</td>\n",
       "    </tr>\n",
       "  </tbody>\n",
       "</table>\n",
       "</div>"
      ],
      "text/plain": [
       "                                     df     sum_sq   mean_sq         F  \\\n",
       "C(block)                            3.0   5.607820  1.869273  5.421336   \n",
       "C(fertilizer)                       2.0   6.068047  3.034023  8.799388   \n",
       "C(density)                          1.0   0.608166  0.608166  1.763826   \n",
       "C(block):C(fertilizer):C(density)  17.0   5.580443  0.328261  0.952036   \n",
       "Residual                           84.0  28.963147  0.344799       NaN   \n",
       "\n",
       "                                     PR(>F) PR(>F)_flag  \n",
       "C(block)                           0.001856      Reject  \n",
       "C(fertilizer)                      0.000339      Reject  \n",
       "C(density)                         0.187745      Accept  \n",
       "C(block):C(fertilizer):C(density)  0.518186      Accept  \n",
       "Residual                                NaN      Accept  "
      ]
     },
     "execution_count": 481,
     "metadata": {},
     "output_type": "execute_result"
    }
   ],
   "source": [
    "df"
   ]
  },
  {
   "cell_type": "code",
   "execution_count": 487,
   "id": "0df65c6a",
   "metadata": {},
   "outputs": [],
   "source": [
    "pf_df=pg.anova(dv='Y', between=[\"block\", \"fertilizer\",  \"density\"], data=inp0[[\"block\", \"fertilizer\", \"density\", \"Y\"]], detailed=True)"
   ]
  },
  {
   "cell_type": "code",
   "execution_count": 491,
   "id": "ad777ce2",
   "metadata": {},
   "outputs": [
    {
     "data": {
      "text/html": [
       "<div>\n",
       "<style scoped>\n",
       "    .dataframe tbody tr th:only-of-type {\n",
       "        vertical-align: middle;\n",
       "    }\n",
       "\n",
       "    .dataframe tbody tr th {\n",
       "        vertical-align: top;\n",
       "    }\n",
       "\n",
       "    .dataframe thead th {\n",
       "        text-align: right;\n",
       "    }\n",
       "</style>\n",
       "<table border=\"1\" class=\"dataframe\">\n",
       "  <thead>\n",
       "    <tr style=\"text-align: right;\">\n",
       "      <th></th>\n",
       "      <th>Source</th>\n",
       "      <th>SS</th>\n",
       "      <th>DF</th>\n",
       "      <th>MS</th>\n",
       "      <th>F</th>\n",
       "      <th>p-unc</th>\n",
       "      <th>np2</th>\n",
       "      <th>Reject_accept</th>\n",
       "    </tr>\n",
       "  </thead>\n",
       "  <tbody>\n",
       "    <tr>\n",
       "      <th>0</th>\n",
       "      <td>block</td>\n",
       "      <td>1.311450e+01</td>\n",
       "      <td>3.0</td>\n",
       "      <td>4.371499e+00</td>\n",
       "      <td>1.267839e+01</td>\n",
       "      <td>6.120772e-04</td>\n",
       "      <td>3.116738e-01</td>\n",
       "      <td>Reject</td>\n",
       "    </tr>\n",
       "    <tr>\n",
       "      <th>1</th>\n",
       "      <td>fertilizer</td>\n",
       "      <td>7.760385e-12</td>\n",
       "      <td>2.0</td>\n",
       "      <td>3.880192e-12</td>\n",
       "      <td>1.125348e-11</td>\n",
       "      <td>1.000000e+00</td>\n",
       "      <td>2.679400e-13</td>\n",
       "      <td>Accept</td>\n",
       "    </tr>\n",
       "    <tr>\n",
       "      <th>2</th>\n",
       "      <td>density</td>\n",
       "      <td>4.371499e+00</td>\n",
       "      <td>1.0</td>\n",
       "      <td>4.371499e+00</td>\n",
       "      <td>1.267839e+01</td>\n",
       "      <td>6.120772e-04</td>\n",
       "      <td>1.311398e-01</td>\n",
       "      <td>Reject</td>\n",
       "    </tr>\n",
       "    <tr>\n",
       "      <th>3</th>\n",
       "      <td>block * fertilizer</td>\n",
       "      <td>3.536605e-01</td>\n",
       "      <td>6.0</td>\n",
       "      <td>5.894342e-02</td>\n",
       "      <td>1.709499e-01</td>\n",
       "      <td>9.157349e-01</td>\n",
       "      <td>1.206340e-02</td>\n",
       "      <td>Accept</td>\n",
       "    </tr>\n",
       "    <tr>\n",
       "      <th>4</th>\n",
       "      <td>block * density</td>\n",
       "      <td>3.008111e+06</td>\n",
       "      <td>3.0</td>\n",
       "      <td>1.002704e+06</td>\n",
       "      <td>2.908079e+06</td>\n",
       "      <td>1.502891e-210</td>\n",
       "      <td>9.999904e-01</td>\n",
       "      <td>Reject</td>\n",
       "    </tr>\n",
       "    <tr>\n",
       "      <th>5</th>\n",
       "      <td>fertilizer * density</td>\n",
       "      <td>1.781213e-01</td>\n",
       "      <td>2.0</td>\n",
       "      <td>8.906065e-02</td>\n",
       "      <td>2.582970e-01</td>\n",
       "      <td>7.729770e-01</td>\n",
       "      <td>6.112338e-03</td>\n",
       "      <td>Accept</td>\n",
       "    </tr>\n",
       "    <tr>\n",
       "      <th>6</th>\n",
       "      <td>block * fertilizer * density</td>\n",
       "      <td>7.205144e+00</td>\n",
       "      <td>6.0</td>\n",
       "      <td>1.200857e+00</td>\n",
       "      <td>3.482771e+00</td>\n",
       "      <td>4.007837e-03</td>\n",
       "      <td>1.992116e-01</td>\n",
       "      <td>Reject</td>\n",
       "    </tr>\n",
       "    <tr>\n",
       "      <th>7</th>\n",
       "      <td>Residual</td>\n",
       "      <td>2.896315e+01</td>\n",
       "      <td>84.0</td>\n",
       "      <td>3.447994e-01</td>\n",
       "      <td>NaN</td>\n",
       "      <td>NaN</td>\n",
       "      <td>NaN</td>\n",
       "      <td>Accept</td>\n",
       "    </tr>\n",
       "  </tbody>\n",
       "</table>\n",
       "</div>"
      ],
      "text/plain": [
       "                         Source            SS    DF            MS  \\\n",
       "0                         block  1.311450e+01   3.0  4.371499e+00   \n",
       "1                    fertilizer  7.760385e-12   2.0  3.880192e-12   \n",
       "2                       density  4.371499e+00   1.0  4.371499e+00   \n",
       "3            block * fertilizer  3.536605e-01   6.0  5.894342e-02   \n",
       "4               block * density  3.008111e+06   3.0  1.002704e+06   \n",
       "5          fertilizer * density  1.781213e-01   2.0  8.906065e-02   \n",
       "6  block * fertilizer * density  7.205144e+00   6.0  1.200857e+00   \n",
       "7                      Residual  2.896315e+01  84.0  3.447994e-01   \n",
       "\n",
       "              F          p-unc           np2 Reject_accept  \n",
       "0  1.267839e+01   6.120772e-04  3.116738e-01        Reject  \n",
       "1  1.125348e-11   1.000000e+00  2.679400e-13        Accept  \n",
       "2  1.267839e+01   6.120772e-04  1.311398e-01        Reject  \n",
       "3  1.709499e-01   9.157349e-01  1.206340e-02        Accept  \n",
       "4  2.908079e+06  1.502891e-210  9.999904e-01        Reject  \n",
       "5  2.582970e-01   7.729770e-01  6.112338e-03        Accept  \n",
       "6  3.482771e+00   4.007837e-03  1.992116e-01        Reject  \n",
       "7           NaN            NaN           NaN        Accept  "
      ]
     },
     "execution_count": 491,
     "metadata": {},
     "output_type": "execute_result"
    }
   ],
   "source": [
    "pf_df[\"Reject_accept\"]=pf_df['p-unc'].apply(lambda x:\"Reject\" if x<0.05 else \"Accept\")\n",
    "pf_df"
   ]
  },
  {
   "cell_type": "markdown",
   "id": "993baba3",
   "metadata": {},
   "source": [
    "# We need to reject the H0 as below groups are having p value more than 0.05"
   ]
  },
  {
   "cell_type": "code",
   "execution_count": 492,
   "id": "46c3e2f3",
   "metadata": {},
   "outputs": [
    {
     "data": {
      "text/html": [
       "<div>\n",
       "<style scoped>\n",
       "    .dataframe tbody tr th:only-of-type {\n",
       "        vertical-align: middle;\n",
       "    }\n",
       "\n",
       "    .dataframe tbody tr th {\n",
       "        vertical-align: top;\n",
       "    }\n",
       "\n",
       "    .dataframe thead th {\n",
       "        text-align: right;\n",
       "    }\n",
       "</style>\n",
       "<table border=\"1\" class=\"dataframe\">\n",
       "  <thead>\n",
       "    <tr style=\"text-align: right;\">\n",
       "      <th></th>\n",
       "      <th>Source</th>\n",
       "      <th>SS</th>\n",
       "      <th>DF</th>\n",
       "      <th>MS</th>\n",
       "      <th>F</th>\n",
       "      <th>p-unc</th>\n",
       "      <th>np2</th>\n",
       "      <th>Reject_accept</th>\n",
       "    </tr>\n",
       "  </thead>\n",
       "  <tbody>\n",
       "    <tr>\n",
       "      <th>0</th>\n",
       "      <td>block</td>\n",
       "      <td>1.311450e+01</td>\n",
       "      <td>3.0</td>\n",
       "      <td>4.371499e+00</td>\n",
       "      <td>1.267839e+01</td>\n",
       "      <td>6.120772e-04</td>\n",
       "      <td>0.311674</td>\n",
       "      <td>Reject</td>\n",
       "    </tr>\n",
       "    <tr>\n",
       "      <th>2</th>\n",
       "      <td>density</td>\n",
       "      <td>4.371499e+00</td>\n",
       "      <td>1.0</td>\n",
       "      <td>4.371499e+00</td>\n",
       "      <td>1.267839e+01</td>\n",
       "      <td>6.120772e-04</td>\n",
       "      <td>0.131140</td>\n",
       "      <td>Reject</td>\n",
       "    </tr>\n",
       "    <tr>\n",
       "      <th>4</th>\n",
       "      <td>block * density</td>\n",
       "      <td>3.008111e+06</td>\n",
       "      <td>3.0</td>\n",
       "      <td>1.002704e+06</td>\n",
       "      <td>2.908079e+06</td>\n",
       "      <td>1.502891e-210</td>\n",
       "      <td>0.999990</td>\n",
       "      <td>Reject</td>\n",
       "    </tr>\n",
       "    <tr>\n",
       "      <th>6</th>\n",
       "      <td>block * fertilizer * density</td>\n",
       "      <td>7.205144e+00</td>\n",
       "      <td>6.0</td>\n",
       "      <td>1.200857e+00</td>\n",
       "      <td>3.482771e+00</td>\n",
       "      <td>4.007837e-03</td>\n",
       "      <td>0.199212</td>\n",
       "      <td>Reject</td>\n",
       "    </tr>\n",
       "  </tbody>\n",
       "</table>\n",
       "</div>"
      ],
      "text/plain": [
       "                         Source            SS   DF            MS  \\\n",
       "0                         block  1.311450e+01  3.0  4.371499e+00   \n",
       "2                       density  4.371499e+00  1.0  4.371499e+00   \n",
       "4               block * density  3.008111e+06  3.0  1.002704e+06   \n",
       "6  block * fertilizer * density  7.205144e+00  6.0  1.200857e+00   \n",
       "\n",
       "              F          p-unc       np2 Reject_accept  \n",
       "0  1.267839e+01   6.120772e-04  0.311674        Reject  \n",
       "2  1.267839e+01   6.120772e-04  0.131140        Reject  \n",
       "4  2.908079e+06  1.502891e-210  0.999990        Reject  \n",
       "6  3.482771e+00   4.007837e-03  0.199212        Reject  "
      ]
     },
     "execution_count": 492,
     "metadata": {},
     "output_type": "execute_result"
    }
   ],
   "source": [
    "pf_df[pf_df[\"Reject_accept\"]==\"Reject\"]"
   ]
  },
  {
   "cell_type": "code",
   "execution_count": null,
   "id": "c340057f",
   "metadata": {},
   "outputs": [],
   "source": []
  }
 ],
 "metadata": {
  "kernelspec": {
   "display_name": "Python 3 (ipykernel)",
   "language": "python",
   "name": "python3"
  },
  "language_info": {
   "codemirror_mode": {
    "name": "ipython",
    "version": 3
   },
   "file_extension": ".py",
   "mimetype": "text/x-python",
   "name": "python",
   "nbconvert_exporter": "python",
   "pygments_lexer": "ipython3",
   "version": "3.9.13"
  }
 },
 "nbformat": 4,
 "nbformat_minor": 5
}
